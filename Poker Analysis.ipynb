{
 "cells": [
  {
   "cell_type": "markdown",
   "metadata": {},
   "source": [
    "My goal for this notebook is to develop some intuition about poker, specifically for the Texas Hold'em game. \n",
    "\n",
    "Some things I want to know is:\n",
    "1. If I'm dealt certain whole cards, should I play it or not?\n",
    "2. For certain whole cards, what are my chances of improving my hands?\n",
    "3. Does the game change when I play with different number of opponents?"
   ]
  },
  {
   "cell_type": "code",
   "execution_count": 155,
   "metadata": {},
   "outputs": [],
   "source": [
    "import pandas as pd\n",
    "import numpy as np\n",
    "import matplotlib.pyplot as plt\n",
    "import seaborn as sns\n",
    "from PIL import Image\n",
    "from time import time\n",
    "import itertools\n",
    "import pickle\n",
    "import os.path\n",
    "\n",
    "from Basics import Deck, test_shuffle\n",
    "from win_lose import evaluate_7cards, evaluate_5cards, best_hand\n",
    "from Game_Board import Test_Game"
   ]
  },
  {
   "cell_type": "markdown",
   "metadata": {},
   "source": [
    "Testing basic functions and methods"
   ]
  },
  {
   "cell_type": "code",
   "execution_count": 2,
   "metadata": {},
   "outputs": [],
   "source": [
    "mydeck = Deck()"
   ]
  },
  {
   "cell_type": "code",
   "execution_count": 3,
   "metadata": {
    "scrolled": true
   },
   "outputs": [
    {
     "data": {
      "text/plain": [
       "['14♣',\n",
       " '2♣',\n",
       " '3♣',\n",
       " '4♣',\n",
       " '5♣',\n",
       " '6♣',\n",
       " '7♣',\n",
       " '8♣',\n",
       " '9♣',\n",
       " '10♣',\n",
       " '11♣',\n",
       " '12♣',\n",
       " '13♣',\n",
       " '14♢',\n",
       " '2♢',\n",
       " '3♢',\n",
       " '4♢',\n",
       " '5♢',\n",
       " '6♢',\n",
       " '7♢',\n",
       " '8♢',\n",
       " '9♢',\n",
       " '10♢',\n",
       " '11♢',\n",
       " '12♢',\n",
       " '13♢',\n",
       " '14♡',\n",
       " '2♡',\n",
       " '3♡',\n",
       " '4♡',\n",
       " '5♡',\n",
       " '6♡',\n",
       " '7♡',\n",
       " '8♡',\n",
       " '9♡',\n",
       " '10♡',\n",
       " '11♡',\n",
       " '12♡',\n",
       " '13♡',\n",
       " '14♠',\n",
       " '2♠',\n",
       " '3♠',\n",
       " '4♠',\n",
       " '5♠',\n",
       " '6♠',\n",
       " '7♠',\n",
       " '8♠',\n",
       " '9♠',\n",
       " '10♠',\n",
       " '11♠',\n",
       " '12♠',\n",
       " '13♠']"
      ]
     },
     "execution_count": 3,
     "metadata": {},
     "output_type": "execute_result"
    }
   ],
   "source": [
    "#showing the unshuffled order of the deck\n",
    "mydeck.order()"
   ]
  },
  {
   "cell_type": "code",
   "execution_count": 4,
   "metadata": {
    "scrolled": true
   },
   "outputs": [],
   "source": [
    "#testing the shuffle function in Deck to see if hands are distributed equally\n",
    "df_test_shuffle = test_shuffle(mydeck, 10000)"
   ]
  },
  {
   "cell_type": "code",
   "execution_count": 5,
   "metadata": {},
   "outputs": [
    {
     "data": {
      "text/plain": [
       "8♠     25.8726\n",
       "6♠     25.7781\n",
       "10♠    25.7619\n",
       "8♡     25.7111\n",
       "13♠    25.6960\n",
       "12♣    25.6719\n",
       "2♣     25.6678\n",
       "9♡     25.6628\n",
       "10♢    25.6511\n",
       "7♠     25.6464\n",
       "5♣     25.6388\n",
       "8♢     25.6263\n",
       "3♠     25.6162\n",
       "2♡     25.6088\n",
       "2♢     25.5987\n",
       "11♢    25.5882\n",
       "10♡    25.5817\n",
       "6♣     25.5593\n",
       "12♢    25.5552\n",
       "14♢    25.5364\n",
       "9♣     25.5328\n",
       "7♡     25.5201\n",
       "14♣    25.5178\n",
       "3♣     25.5139\n",
       "14♠    25.5052\n",
       "3♡     25.5027\n",
       "11♣    25.5007\n",
       "14♡    25.4963\n",
       "11♡    25.4933\n",
       "9♠     25.4859\n",
       "8♣     25.4855\n",
       "5♠     25.4842\n",
       "4♣     25.4763\n",
       "7♣     25.4759\n",
       "6♡     25.4623\n",
       "9♢     25.4385\n",
       "4♢     25.4305\n",
       "13♢    25.4296\n",
       "12♡    25.4228\n",
       "10♣    25.4132\n",
       "4♠     25.3972\n",
       "13♣    25.3922\n",
       "11♠    25.3483\n",
       "2♠     25.3301\n",
       "4♡     25.3076\n",
       "12♠    25.2904\n",
       "6♢     25.2800\n",
       "13♡    25.2480\n",
       "3♢     25.2406\n",
       "5♢     25.2377\n",
       "7♢     25.2060\n",
       "5♡     25.1051\n",
       "Name: avg_hand_freq, dtype: float64"
      ]
     },
     "execution_count": 5,
     "metadata": {},
     "output_type": "execute_result"
    }
   ],
   "source": [
    "s_test_summary = df_test_shuffle.mean().sort_values(ascending = False).rename('avg_hand_freq')\n",
    "s_test_summary"
   ]
  },
  {
   "cell_type": "code",
   "execution_count": 6,
   "metadata": {},
   "outputs": [
    {
     "data": {
      "image/png": "[encoded data removed]",
      "text/plain": [
       "<matplotlib.figure.Figure at 0x136935c60b8>"
      ]
     },
     "metadata": {},
     "output_type": "display_data"
    }
   ],
   "source": [
    "s_test_summary.plot(kind = 'barh')\n",
    "plt.show()"
   ]
  },
  {
   "cell_type": "markdown",
   "metadata": {},
   "source": [
    "Seems like the classes and the shuffle functions working okay"
   ]
  },
  {
   "cell_type": "markdown",
   "metadata": {},
   "source": [
    "Trying to run some code a few times to collect some simulation data"
   ]
  },
  {
   "cell_type": "code",
   "execution_count": 73,
   "metadata": {},
   "outputs": [
    {
     "name": "stdout",
     "output_type": "stream",
     "text": [
      "starting time: 1533156630.537981\n",
      "took 70091.83231210709 seconds\n",
      "   player     whole                    comm               best hand  \\\n",
      "9       9  [9♣, 4♣]   [14♠, 9♡, 9♢, 4♡, 4♠]    (9♣, 4♣, 9♡, 9♢, 4♡)   \n",
      "6       6  [9♢, 2♠]  [12♣, 4♠, 9♡, 10♠, 9♣]  (9♢, 12♣, 9♡, 10♠, 9♣)   \n",
      "2       2  [8♡, 8♢]  [10♡, 7♠, 8♣, 10♣, 9♢]  (8♡, 8♢, 10♡, 8♣, 10♣)   \n",
      "0       0  [2♡, 4♢]   [6♡, 3♠, 6♠, 5♣, 13♢]    (2♡, 4♢, 6♡, 3♠, 5♣)   \n",
      "8       8  [4♡, 2♠]   [6♡, 3♠, 6♠, 5♣, 13♢]    (4♡, 2♠, 6♡, 3♠, 5♣)   \n",
      "\n",
      "                            eval  round  \n",
      "9          (7, Full House, 9, 0)      0  \n",
      "6  (4, 3 of a Kind, 9, [12, 10])      1  \n",
      "2          (7, Full House, 8, 0)      2  \n",
      "0            (5, Straight, 6, 0)      3  \n",
      "8            (5, Straight, 6, 0)      3  \n"
     ]
    }
   ],
   "source": [
    "print('starting time: {}'.format(time()))\n",
    "t0 = time()\n",
    "winning_df = pd.DataFrame()\n",
    "whole_list = []\n",
    "hands = 200000 #200000, 70091 seconds = 1168 min = 19 hrs\n",
    "participants = 10\n",
    "for i in range(hands):\n",
    "    winner_data = []\n",
    "\n",
    "    \n",
    "\n",
    "    game_info = []\n",
    "    whole_cards, comm = Test_Game('HOLDEM', participants)\n",
    "    whole_list += list(whole_cards.values())\n",
    "    \n",
    "    for player in whole_cards:\n",
    "        player_cards = whole_cards[player]\n",
    "\n",
    "        game_info.append([player, player_cards, comm])\n",
    "\n",
    "\n",
    "    game_info_df = pd.DataFrame(game_info, columns = ['player', 'whole', 'comm'])\n",
    "    game_info_df['combined'] = game_info_df['whole'] + game_info_df['comm']\n",
    "    game_info_df['mess'] = game_info_df['combined'].apply(evaluate_7cards)\n",
    "    game_info_df['best hand'] = game_info_df['mess'].apply(lambda x:x[0][0])\n",
    "    game_info_df['eval'] = game_info_df['mess'].apply(lambda x:x[0][1])\n",
    "    best = best_hand(list(game_info_df['mess'].apply(lambda x:x[0])))\n",
    "\n",
    "    winner = game_info_df[game_info_df['eval'] == best[0][1]][['player', 'whole', 'comm', 'best hand', 'eval']]\n",
    "    winner['round'] = i\n",
    "    winning_df = winning_df.append(winner)\n",
    "    \n",
    "\n",
    "print('took {} seconds'.format(time() - t0))\n",
    "print(winning_df.head())\n",
    "#seems like for every 10 games, it takes ~5 seconds to run the algo\n",
    "#so 1,000,000 games should take 500,000 seconds = 8333 mins = 138 hrs = 5.7 days to run."
   ]
  },
  {
   "cell_type": "code",
   "execution_count": 92,
   "metadata": {},
   "outputs": [
    {
     "name": "stdout",
     "output_type": "stream",
     "text": [
      "           whole counts\n",
      "(11♡, 7♠)          1643\n",
      "(12♡, 2♡)          1637\n",
      "(14♢, 9♠)          1631\n",
      "(14♡, 4♣)          1630\n",
      "(14♣, 4♠)          1628\n"
     ]
    }
   ],
   "source": [
    "whole_df = pd.DataFrame({'whole': whole_list})\n",
    "whole_df = whole_df['whole'].apply(sorted).apply(tuple).value_counts().to_frame()\n",
    "whole_df.rename(columns = {'whole': 'whole counts'}, inplace = True)\n",
    "print(whole_df.head())"
   ]
  },
  {
   "cell_type": "code",
   "execution_count": 93,
   "metadata": {},
   "outputs": [],
   "source": [
    "#might want to save this thing\n",
    "#should run it for 2, 5 and 10 players\n",
    "winner_10p_filename = 'Data/winner_sim_200k_10p.pickle' #this is for 10p\n",
    "whole_10p_filename = 'Data/whole_sim_200k_10p.pickle' #this is for 10p\n",
    "#file_name = 'Data/whole_card_sim_200k_5p.pickle' #this is for 5p\n",
    "#file_name = 'Data/whole_card_sim_200k_2p.pickle' #this is for 2p"
   ]
  },
  {
   "cell_type": "code",
   "execution_count": 105,
   "metadata": {},
   "outputs": [],
   "source": [
    "#not sure why this didn't work with the if statement\n",
    "with open(winner_10p_filename, 'wb') as handle: \n",
    "    pickle.dump(winning_df, handle, protocol=pickle.HIGHEST_PROTOCOL)"
   ]
  },
  {
   "cell_type": "code",
   "execution_count": 106,
   "metadata": {},
   "outputs": [],
   "source": [
    "#not sure why this didn't work with the if statement\n",
    "with open(whole_10p_filename, 'wb') as handle: \n",
    "    pickle.dump(whole_df, handle, protocol=pickle.HIGHEST_PROTOCOL)"
   ]
  },
  {
   "cell_type": "code",
   "execution_count": 12,
   "metadata": {},
   "outputs": [],
   "source": [
    "with open(winner_10p_filename, 'rb') as handle:\n",
    "    winning_df = pickle.load(handle)\n",
    "with open(whole_10p_filename, 'rb') as handle:\n",
    "    whole_df = pickle.load(handle)"
   ]
  },
  {
   "cell_type": "code",
   "execution_count": 110,
   "metadata": {},
   "outputs": [
    {
     "name": "stdout",
     "output_type": "stream",
     "text": [
      "(234139, 6)\n",
      "(1326, 1)\n"
     ]
    }
   ],
   "source": [
    "print(winning_df.shape)\n",
    "print(whole_df.shape)"
   ]
  },
  {
   "cell_type": "code",
   "execution_count": 107,
   "metadata": {},
   "outputs": [
    {
     "name": "stdout",
     "output_type": "stream",
     "text": [
      "         whole\n",
      "100  (12♢, 8♠)\n",
      "101  (2♢, 10♢)\n",
      "102   (2♢, 7♡)\n",
      "103  (2♢, 11♢)\n",
      "104  (2♢, 14♠)\n",
      "105   (2♢, 5♡)\n",
      "         whole whole rank whole suit\n",
      "100  (12♢, 8♠)    (8, 12)     (♠, ♢)\n",
      "101  (10♢, 2♢)    (2, 10)     (♢, ♢)\n",
      "102   (2♢, 7♡)     (2, 7)     (♡, ♢)\n",
      "103  (11♢, 2♢)    (2, 11)     (♢, ♢)\n",
      "104  (14♠, 2♢)    (2, 14)     (♠, ♢)\n",
      "105   (2♢, 5♡)     (2, 5)     (♡, ♢)\n",
      "(1326, 3)\n"
     ]
    }
   ],
   "source": [
    "all_possible_whole = pd.DataFrame({'whole':[whole for whole in list(itertools.combinations(mydeck.order(), 2))]})\n",
    "print(all_possible_whole.iloc[100:106])\n",
    "all_possible_whole['whole rank'] = all_possible_whole['whole'].apply(lambda x: [int(i[:-1]) for i in x]).apply(lambda x: sorted(x)).apply(tuple)\n",
    "all_possible_whole['whole suit'] = all_possible_whole['whole'].apply(lambda x: [i[-1] for i in x]).apply(lambda x: sorted(x)).apply(tuple)\n",
    "all_possible_whole['whole'] = all_possible_whole['whole'].apply(sorted).apply(tuple)\n",
    "print(all_possible_whole.iloc[100:106])\n",
    "print(all_possible_whole.shape)"
   ]
  },
  {
   "cell_type": "code",
   "execution_count": 108,
   "metadata": {},
   "outputs": [
    {
     "name": "stdout",
     "output_type": "stream",
     "text": [
      "            winning counts\n",
      "(14♠, 14♢)             389\n",
      "(14♢, 14♣)             383\n",
      "(13♠, 13♣)             367\n",
      "(13♠, 13♢)             366\n",
      "(12♢, 12♣)             365\n",
      "(1326, 1)\n"
     ]
    }
   ],
   "source": [
    "winning_df_summary = winning_df['whole'].apply(sorted).apply(tuple).copy().value_counts().to_frame()\n",
    "winning_df_summary.rename(columns = {'whole': 'winning counts'}, inplace = True)\n",
    "print(winning_df_summary.head())\n",
    "print(winning_df_summary.shape)"
   ]
  },
  {
   "cell_type": "markdown",
   "metadata": {},
   "source": [
    "Check if your algo is working..."
   ]
  },
  {
   "cell_type": "code",
   "execution_count": 111,
   "metadata": {},
   "outputs": [
    {
     "data": {
      "text/plain": [
       "234139"
      ]
     },
     "execution_count": 111,
     "metadata": {},
     "output_type": "execute_result"
    }
   ],
   "source": [
    "winning_df_summary['winning counts'].sum()"
   ]
  },
  {
   "cell_type": "code",
   "execution_count": 22,
   "metadata": {
    "scrolled": true
   },
   "outputs": [
    {
     "data": {
      "text/html": [
       "<div>\n",
       "<table border=\"1\" class=\"dataframe\">\n",
       "  <thead>\n",
       "    <tr style=\"text-align: right;\">\n",
       "      <th></th>\n",
       "      <th>whole</th>\n",
       "      <th>whole rank</th>\n",
       "      <th>whole suit</th>\n",
       "      <th>counts</th>\n",
       "    </tr>\n",
       "  </thead>\n",
       "  <tbody>\n",
       "    <tr>\n",
       "      <th>122</th>\n",
       "      <td>(2♠, 2♢)</td>\n",
       "      <td>(2, 2)</td>\n",
       "      <td>(♠, ♢)</td>\n",
       "      <td>228</td>\n",
       "    </tr>\n",
       "    <tr>\n",
       "      <th>136</th>\n",
       "      <td>(2♢, 2♣)</td>\n",
       "      <td>(2, 2)</td>\n",
       "      <td>(♢, ♣)</td>\n",
       "      <td>208</td>\n",
       "    </tr>\n",
       "    <tr>\n",
       "      <th>139</th>\n",
       "      <td>(2♡, 2♢)</td>\n",
       "      <td>(2, 2)</td>\n",
       "      <td>(♡, ♢)</td>\n",
       "      <td>229</td>\n",
       "    </tr>\n",
       "    <tr>\n",
       "      <th>961</th>\n",
       "      <td>(2♠, 2♣)</td>\n",
       "      <td>(2, 2)</td>\n",
       "      <td>(♠, ♣)</td>\n",
       "      <td>225</td>\n",
       "    </tr>\n",
       "    <tr>\n",
       "      <th>964</th>\n",
       "      <td>(2♠, 2♡)</td>\n",
       "      <td>(2, 2)</td>\n",
       "      <td>(♠, ♡)</td>\n",
       "      <td>225</td>\n",
       "    </tr>\n",
       "    <tr>\n",
       "      <th>1237</th>\n",
       "      <td>(2♡, 2♣)</td>\n",
       "      <td>(2, 2)</td>\n",
       "      <td>(♡, ♣)</td>\n",
       "      <td>216</td>\n",
       "    </tr>\n",
       "  </tbody>\n",
       "</table>\n",
       "</div>"
      ],
      "text/plain": [
       "         whole whole rank whole suit  counts\n",
       "122   (2♠, 2♢)     (2, 2)     (♠, ♢)     228\n",
       "136   (2♢, 2♣)     (2, 2)     (♢, ♣)     208\n",
       "139   (2♡, 2♢)     (2, 2)     (♡, ♢)     229\n",
       "961   (2♠, 2♣)     (2, 2)     (♠, ♣)     225\n",
       "964   (2♠, 2♡)     (2, 2)     (♠, ♡)     225\n",
       "1237  (2♡, 2♣)     (2, 2)     (♡, ♣)     216"
      ]
     },
     "execution_count": 22,
     "metadata": {},
     "output_type": "execute_result"
    }
   ],
   "source": [
    "all_possible_whole[all_possible_whole['whole rank'] == (2, 2)]"
   ]
  },
  {
   "cell_type": "code",
   "execution_count": 24,
   "metadata": {
    "scrolled": true
   },
   "outputs": [
    {
     "data": {
      "text/html": [
       "<div>\n",
       "<table border=\"1\" class=\"dataframe\">\n",
       "  <thead>\n",
       "    <tr style=\"text-align: right;\">\n",
       "      <th></th>\n",
       "      <th>whole</th>\n",
       "      <th>whole rank</th>\n",
       "      <th>whole suit</th>\n",
       "      <th>counts</th>\n",
       "    </tr>\n",
       "  </thead>\n",
       "  <tbody>\n",
       "    <tr>\n",
       "      <th>104</th>\n",
       "      <td>(14♠, 2♢)</td>\n",
       "      <td>(2, 14)</td>\n",
       "      <td>(♠, ♢)</td>\n",
       "      <td>162</td>\n",
       "    </tr>\n",
       "    <tr>\n",
       "      <th>119</th>\n",
       "      <td>(14♢, 2♢)</td>\n",
       "      <td>(2, 14)</td>\n",
       "      <td>(♢, ♢)</td>\n",
       "      <td>223</td>\n",
       "    </tr>\n",
       "    <tr>\n",
       "      <th>126</th>\n",
       "      <td>(14♡, 2♢)</td>\n",
       "      <td>(2, 14)</td>\n",
       "      <td>(♡, ♢)</td>\n",
       "      <td>174</td>\n",
       "    </tr>\n",
       "    <tr>\n",
       "      <th>144</th>\n",
       "      <td>(14♣, 2♢)</td>\n",
       "      <td>(2, 14)</td>\n",
       "      <td>(♢, ♣)</td>\n",
       "      <td>167</td>\n",
       "    </tr>\n",
       "    <tr>\n",
       "      <th>308</th>\n",
       "      <td>(14♠, 2♠)</td>\n",
       "      <td>(2, 14)</td>\n",
       "      <td>(♠, ♠)</td>\n",
       "      <td>184</td>\n",
       "    </tr>\n",
       "    <tr>\n",
       "      <th>322</th>\n",
       "      <td>(14♠, 2♣)</td>\n",
       "      <td>(2, 14)</td>\n",
       "      <td>(♠, ♣)</td>\n",
       "      <td>161</td>\n",
       "    </tr>\n",
       "    <tr>\n",
       "      <th>325</th>\n",
       "      <td>(14♠, 2♡)</td>\n",
       "      <td>(2, 14)</td>\n",
       "      <td>(♠, ♡)</td>\n",
       "      <td>158</td>\n",
       "    </tr>\n",
       "    <tr>\n",
       "      <th>863</th>\n",
       "      <td>(14♢, 2♠)</td>\n",
       "      <td>(2, 14)</td>\n",
       "      <td>(♠, ♢)</td>\n",
       "      <td>123</td>\n",
       "    </tr>\n",
       "    <tr>\n",
       "      <th>877</th>\n",
       "      <td>(14♢, 2♣)</td>\n",
       "      <td>(2, 14)</td>\n",
       "      <td>(♢, ♣)</td>\n",
       "      <td>151</td>\n",
       "    </tr>\n",
       "    <tr>\n",
       "      <th>880</th>\n",
       "      <td>(14♢, 2♡)</td>\n",
       "      <td>(2, 14)</td>\n",
       "      <td>(♡, ♢)</td>\n",
       "      <td>139</td>\n",
       "    </tr>\n",
       "    <tr>\n",
       "      <th>951</th>\n",
       "      <td>(14♡, 2♠)</td>\n",
       "      <td>(2, 14)</td>\n",
       "      <td>(♠, ♡)</td>\n",
       "      <td>155</td>\n",
       "    </tr>\n",
       "    <tr>\n",
       "      <th>969</th>\n",
       "      <td>(14♣, 2♠)</td>\n",
       "      <td>(2, 14)</td>\n",
       "      <td>(♠, ♣)</td>\n",
       "      <td>153</td>\n",
       "    </tr>\n",
       "    <tr>\n",
       "      <th>1059</th>\n",
       "      <td>(14♡, 2♣)</td>\n",
       "      <td>(2, 14)</td>\n",
       "      <td>(♡, ♣)</td>\n",
       "      <td>154</td>\n",
       "    </tr>\n",
       "    <tr>\n",
       "      <th>1062</th>\n",
       "      <td>(14♡, 2♡)</td>\n",
       "      <td>(2, 14)</td>\n",
       "      <td>(♡, ♡)</td>\n",
       "      <td>203</td>\n",
       "    </tr>\n",
       "    <tr>\n",
       "      <th>1242</th>\n",
       "      <td>(14♣, 2♣)</td>\n",
       "      <td>(2, 14)</td>\n",
       "      <td>(♣, ♣)</td>\n",
       "      <td>200</td>\n",
       "    </tr>\n",
       "    <tr>\n",
       "      <th>1275</th>\n",
       "      <td>(14♣, 2♡)</td>\n",
       "      <td>(2, 14)</td>\n",
       "      <td>(♡, ♣)</td>\n",
       "      <td>155</td>\n",
       "    </tr>\n",
       "  </tbody>\n",
       "</table>\n",
       "</div>"
      ],
      "text/plain": [
       "          whole whole rank whole suit  counts\n",
       "104   (14♠, 2♢)    (2, 14)     (♠, ♢)     162\n",
       "119   (14♢, 2♢)    (2, 14)     (♢, ♢)     223\n",
       "126   (14♡, 2♢)    (2, 14)     (♡, ♢)     174\n",
       "144   (14♣, 2♢)    (2, 14)     (♢, ♣)     167\n",
       "308   (14♠, 2♠)    (2, 14)     (♠, ♠)     184\n",
       "322   (14♠, 2♣)    (2, 14)     (♠, ♣)     161\n",
       "325   (14♠, 2♡)    (2, 14)     (♠, ♡)     158\n",
       "863   (14♢, 2♠)    (2, 14)     (♠, ♢)     123\n",
       "877   (14♢, 2♣)    (2, 14)     (♢, ♣)     151\n",
       "880   (14♢, 2♡)    (2, 14)     (♡, ♢)     139\n",
       "951   (14♡, 2♠)    (2, 14)     (♠, ♡)     155\n",
       "969   (14♣, 2♠)    (2, 14)     (♠, ♣)     153\n",
       "1059  (14♡, 2♣)    (2, 14)     (♡, ♣)     154\n",
       "1062  (14♡, 2♡)    (2, 14)     (♡, ♡)     203\n",
       "1242  (14♣, 2♣)    (2, 14)     (♣, ♣)     200\n",
       "1275  (14♣, 2♡)    (2, 14)     (♡, ♣)     155"
      ]
     },
     "execution_count": 24,
     "metadata": {},
     "output_type": "execute_result"
    }
   ],
   "source": [
    "all_possible_whole[all_possible_whole['whole rank'] == (2, 14)]\n",
    "#seems like my code is working"
   ]
  },
  {
   "cell_type": "markdown",
   "metadata": {},
   "source": [
    "Develop some analysis for the DataFrame and answer the following questions:\n",
    "1. what hands have very slim chance of winning? by rank and suits?\n",
    "    - suits can be classified as matching or not\n",
    "    - ranks can be classified as connecting, 1 gap, 2 gaps, etc\n",
    "    - ranks can also be looked at by pairs, have at least an Ace, King, etc\n",
    "2. what is the cutoff standard for winning percentages?\n",
    "    - we can sort and plot. see if there's an elbow in the plot, for the categories that we've came up with\n",
    "    - we can also answer some myths:\n",
    "        - are 2, 7s the worst hands?\n",
    "        - small pairs, do they always suck?\n",
    "3. What ends up being the eventual winners?\n",
    "\n",
    "some classification ideas:\n",
    "1. suit:\n",
    "    - same suit\n",
    "    - different suit\n",
    "  \n",
    "2. rank:\n",
    "    - pair of different sizes\n",
    "    - at least a high card\n",
    "    - does suit play a dramatic role?\n",
    "    - gaps (0, 1, 2, 3, 4, 5+)\n",
    "    \n",
    "Also, how do things differ for 10 player, 5 player, and 2 player games? Is what we've found about 10 players not applicable anymore?"
   ]
  },
  {
   "cell_type": "code",
   "execution_count": 112,
   "metadata": {},
   "outputs": [],
   "source": [
    "#these two functions help me come up with some classifications\n",
    "def suit_cat(x):\n",
    "    if x[0] == x[1]:\n",
    "        return 'same'\n",
    "    else:\n",
    "        return 'diff'\n",
    "    \n",
    "def rank_cat(x):\n",
    "    max_rank = max(int(x[0]), int(x[1]))\n",
    "    min_rank = min(int(x[0]), int(x[1]))\n",
    "    \n",
    "    if max_rank == min_rank:\n",
    "        status1 = 'pair'\n",
    "    elif abs(max_rank - min_rank) == 1 or (max_rank == 14 and min_rank == 2):\n",
    "        status1 = '1gap'\n",
    "    elif abs(max_rank - min_rank) == 2 or (max_rank == 14 and min_rank == 3):\n",
    "        status1 = '2gap'\n",
    "    elif abs(max_rank - min_rank) == 3 or (max_rank == 14 and min_rank == 4):\n",
    "        status1 = '3gap'\n",
    "    elif abs(max_rank - min_rank) == 4 or (max_rank == 14 and min_rank == 5):\n",
    "        status1 = '4gap'\n",
    "    else:\n",
    "        status1 = '5gap+' \n",
    "        \n",
    "    if max_rank >= 11:\n",
    "        status2 = 'high'\n",
    "    elif max_rank >= 6:\n",
    "        status2 = 'mid'\n",
    "    else:\n",
    "        status2 = 'low'\n",
    "    return status2 + ' ' + status1"
   ]
  },
  {
   "cell_type": "code",
   "execution_count": 113,
   "metadata": {},
   "outputs": [
    {
     "data": {
      "text/html": [
       "<div>\n",
       "<table border=\"1\" class=\"dataframe\">\n",
       "  <thead>\n",
       "    <tr style=\"text-align: right;\">\n",
       "      <th></th>\n",
       "      <th>whole</th>\n",
       "      <th>whole rank</th>\n",
       "      <th>whole suit</th>\n",
       "      <th>suit cat</th>\n",
       "      <th>rank cat</th>\n",
       "    </tr>\n",
       "  </thead>\n",
       "  <tbody>\n",
       "    <tr>\n",
       "      <th>292</th>\n",
       "      <td>(14♠, 3♡)</td>\n",
       "      <td>(3, 14)</td>\n",
       "      <td>(♠, ♡)</td>\n",
       "      <td>diff</td>\n",
       "      <td>high 2gap</td>\n",
       "    </tr>\n",
       "    <tr>\n",
       "      <th>296</th>\n",
       "      <td>(14♠, 3♠)</td>\n",
       "      <td>(3, 14)</td>\n",
       "      <td>(♠, ♠)</td>\n",
       "      <td>same</td>\n",
       "      <td>high 2gap</td>\n",
       "    </tr>\n",
       "    <tr>\n",
       "      <th>331</th>\n",
       "      <td>(14♠, 3♣)</td>\n",
       "      <td>(3, 14)</td>\n",
       "      <td>(♠, ♣)</td>\n",
       "      <td>diff</td>\n",
       "      <td>high 2gap</td>\n",
       "    </tr>\n",
       "    <tr>\n",
       "      <th>334</th>\n",
       "      <td>(14♠, 3♢)</td>\n",
       "      <td>(3, 14)</td>\n",
       "      <td>(♠, ♢)</td>\n",
       "      <td>diff</td>\n",
       "      <td>high 2gap</td>\n",
       "    </tr>\n",
       "    <tr>\n",
       "      <th>392</th>\n",
       "      <td>(14♢, 3♡)</td>\n",
       "      <td>(3, 14)</td>\n",
       "      <td>(♡, ♢)</td>\n",
       "      <td>diff</td>\n",
       "      <td>high 2gap</td>\n",
       "    </tr>\n",
       "    <tr>\n",
       "      <th>399</th>\n",
       "      <td>(14♡, 3♡)</td>\n",
       "      <td>(3, 14)</td>\n",
       "      <td>(♡, ♡)</td>\n",
       "      <td>same</td>\n",
       "      <td>high 2gap</td>\n",
       "    </tr>\n",
       "    <tr>\n",
       "      <th>417</th>\n",
       "      <td>(14♣, 3♡)</td>\n",
       "      <td>(3, 14)</td>\n",
       "      <td>(♡, ♣)</td>\n",
       "      <td>diff</td>\n",
       "      <td>high 2gap</td>\n",
       "    </tr>\n",
       "    <tr>\n",
       "      <th>554</th>\n",
       "      <td>(14♢, 3♠)</td>\n",
       "      <td>(3, 14)</td>\n",
       "      <td>(♠, ♢)</td>\n",
       "      <td>diff</td>\n",
       "      <td>high 2gap</td>\n",
       "    </tr>\n",
       "    <tr>\n",
       "      <th>561</th>\n",
       "      <td>(14♡, 3♠)</td>\n",
       "      <td>(3, 14)</td>\n",
       "      <td>(♠, ♡)</td>\n",
       "      <td>diff</td>\n",
       "      <td>high 2gap</td>\n",
       "    </tr>\n",
       "    <tr>\n",
       "      <th>579</th>\n",
       "      <td>(14♣, 3♠)</td>\n",
       "      <td>(3, 14)</td>\n",
       "      <td>(♠, ♣)</td>\n",
       "      <td>diff</td>\n",
       "      <td>high 2gap</td>\n",
       "    </tr>\n",
       "    <tr>\n",
       "      <th>886</th>\n",
       "      <td>(14♢, 3♣)</td>\n",
       "      <td>(3, 14)</td>\n",
       "      <td>(♢, ♣)</td>\n",
       "      <td>diff</td>\n",
       "      <td>high 2gap</td>\n",
       "    </tr>\n",
       "    <tr>\n",
       "      <th>889</th>\n",
       "      <td>(14♢, 3♢)</td>\n",
       "      <td>(3, 14)</td>\n",
       "      <td>(♢, ♢)</td>\n",
       "      <td>same</td>\n",
       "      <td>high 2gap</td>\n",
       "    </tr>\n",
       "    <tr>\n",
       "      <th>1068</th>\n",
       "      <td>(14♡, 3♣)</td>\n",
       "      <td>(3, 14)</td>\n",
       "      <td>(♡, ♣)</td>\n",
       "      <td>diff</td>\n",
       "      <td>high 2gap</td>\n",
       "    </tr>\n",
       "    <tr>\n",
       "      <th>1071</th>\n",
       "      <td>(14♡, 3♢)</td>\n",
       "      <td>(3, 14)</td>\n",
       "      <td>(♡, ♢)</td>\n",
       "      <td>diff</td>\n",
       "      <td>high 2gap</td>\n",
       "    </tr>\n",
       "    <tr>\n",
       "      <th>1311</th>\n",
       "      <td>(14♣, 3♣)</td>\n",
       "      <td>(3, 14)</td>\n",
       "      <td>(♣, ♣)</td>\n",
       "      <td>same</td>\n",
       "      <td>high 2gap</td>\n",
       "    </tr>\n",
       "    <tr>\n",
       "      <th>1314</th>\n",
       "      <td>(14♣, 3♢)</td>\n",
       "      <td>(3, 14)</td>\n",
       "      <td>(♢, ♣)</td>\n",
       "      <td>diff</td>\n",
       "      <td>high 2gap</td>\n",
       "    </tr>\n",
       "  </tbody>\n",
       "</table>\n",
       "</div>"
      ],
      "text/plain": [
       "          whole whole rank whole suit suit cat   rank cat\n",
       "292   (14♠, 3♡)    (3, 14)     (♠, ♡)     diff  high 2gap\n",
       "296   (14♠, 3♠)    (3, 14)     (♠, ♠)     same  high 2gap\n",
       "331   (14♠, 3♣)    (3, 14)     (♠, ♣)     diff  high 2gap\n",
       "334   (14♠, 3♢)    (3, 14)     (♠, ♢)     diff  high 2gap\n",
       "392   (14♢, 3♡)    (3, 14)     (♡, ♢)     diff  high 2gap\n",
       "399   (14♡, 3♡)    (3, 14)     (♡, ♡)     same  high 2gap\n",
       "417   (14♣, 3♡)    (3, 14)     (♡, ♣)     diff  high 2gap\n",
       "554   (14♢, 3♠)    (3, 14)     (♠, ♢)     diff  high 2gap\n",
       "561   (14♡, 3♠)    (3, 14)     (♠, ♡)     diff  high 2gap\n",
       "579   (14♣, 3♠)    (3, 14)     (♠, ♣)     diff  high 2gap\n",
       "886   (14♢, 3♣)    (3, 14)     (♢, ♣)     diff  high 2gap\n",
       "889   (14♢, 3♢)    (3, 14)     (♢, ♢)     same  high 2gap\n",
       "1068  (14♡, 3♣)    (3, 14)     (♡, ♣)     diff  high 2gap\n",
       "1071  (14♡, 3♢)    (3, 14)     (♡, ♢)     diff  high 2gap\n",
       "1311  (14♣, 3♣)    (3, 14)     (♣, ♣)     same  high 2gap\n",
       "1314  (14♣, 3♢)    (3, 14)     (♢, ♣)     diff  high 2gap"
      ]
     },
     "execution_count": 113,
     "metadata": {},
     "output_type": "execute_result"
    }
   ],
   "source": [
    "all_possible_whole['suit cat'] = all_possible_whole['whole suit'].apply(suit_cat)\n",
    "all_possible_whole['rank cat'] = all_possible_whole['whole rank'].apply(rank_cat)\n",
    "all_possible_whole[all_possible_whole['whole rank'] == (3, 14)]"
   ]
  },
  {
   "cell_type": "code",
   "execution_count": 114,
   "metadata": {},
   "outputs": [
    {
     "name": "stdout",
     "output_type": "stream",
     "text": [
      "(1326, 9)\n",
      "       whole whole rank whole suit suit cat   rank cat  whole counts  \\\n",
      "0  (12♢, 9♠)    (9, 12)     (♠, ♢)     diff  high 3gap          1600   \n",
      "1   (2♢, 9♠)     (2, 9)     (♠, ♢)     diff  mid 5gap+          1561   \n",
      "2  (10♢, 9♠)    (9, 10)     (♠, ♢)     diff   mid 1gap          1503   \n",
      "3   (7♡, 9♠)     (7, 9)     (♠, ♡)     diff   mid 2gap          1496   \n",
      "4  (11♢, 9♠)    (9, 11)     (♠, ♢)     diff  high 2gap          1564   \n",
      "\n",
      "   winning counts  whole occurance  whole winning %  \n",
      "0             183         0.000800         0.114375  \n",
      "1             107         0.000781         0.068546  \n",
      "2             183         0.000751         0.121756  \n",
      "3             189         0.000748         0.126337  \n",
      "4             215         0.000782         0.137468  \n"
     ]
    }
   ],
   "source": [
    "all_possible_whole = all_possible_whole.merge(whole_df, how = 'outer', left_on = 'whole', right_index = True)\n",
    "all_possible_whole = all_possible_whole.merge(winning_df_summary, how = 'outer', left_on = 'whole', right_index = True)\n",
    "#all_possible_whole['whole occurance'] = all_possible_whole['whole counts'] / hands / participants\n",
    "#all_possible_whole['whole winning %'] = all_possible_whole['winning counts'] / all_possible_whole['whole counts']\n",
    "print(all_possible_whole.shape)\n",
    "print(all_possible_whole.head())"
   ]
  },
  {
   "cell_type": "code",
   "execution_count": 144,
   "metadata": {},
   "outputs": [
    {
     "data": {
      "image/png": "[encoded data removed]",
      "text/plain": [
       "<matplotlib.figure.Figure at 0x136964e7518>"
      ]
     },
     "metadata": {},
     "output_type": "display_data"
    },
    {
     "data": {
      "text/html": [
       "<div>\n",
       "<table border=\"1\" class=\"dataframe\">\n",
       "  <thead>\n",
       "    <tr style=\"text-align: right;\">\n",
       "      <th></th>\n",
       "      <th>whole counts</th>\n",
       "      <th>winning counts</th>\n",
       "      <th>whole occurance</th>\n",
       "      <th>whole winning %</th>\n",
       "    </tr>\n",
       "    <tr>\n",
       "      <th>suit cat</th>\n",
       "      <th></th>\n",
       "      <th></th>\n",
       "      <th></th>\n",
       "      <th></th>\n",
       "    </tr>\n",
       "  </thead>\n",
       "  <tbody>\n",
       "    <tr>\n",
       "      <th>same</th>\n",
       "      <td>470580</td>\n",
       "      <td>66435</td>\n",
       "      <td>0.23529</td>\n",
       "      <td>0.141177</td>\n",
       "    </tr>\n",
       "    <tr>\n",
       "      <th>diff</th>\n",
       "      <td>1529420</td>\n",
       "      <td>167704</td>\n",
       "      <td>0.76471</td>\n",
       "      <td>0.109652</td>\n",
       "    </tr>\n",
       "  </tbody>\n",
       "</table>\n",
       "</div>"
      ],
      "text/plain": [
       "          whole counts  winning counts  whole occurance  whole winning %\n",
       "suit cat                                                                \n",
       "same            470580           66435          0.23529         0.141177\n",
       "diff           1529420          167704          0.76471         0.109652"
      ]
     },
     "execution_count": 144,
     "metadata": {},
     "output_type": "execute_result"
    }
   ],
   "source": [
    "#groupby and compare suit categories to see if there's a clear difference in winning percentage. Plot if necessary\n",
    "temp = all_possible_whole.groupby('suit cat')[['suit cat', 'whole counts', 'winning counts']].sum()\n",
    "temp['whole occurance'] = temp['whole counts'] / hands / participants\n",
    "temp['whole winning %'] = temp['winning counts'] / temp['whole counts']\n",
    "temp.sort_index(ascending = False, inplace = True)\n",
    "temp['whole winning %'].plot(kind = 'bar')\n",
    "plt.ylabel('Winning %')\n",
    "plt.title('Winning Percentages - Same Suit vs. Diff Suit')\n",
    "plt.show()\n",
    "temp.head()"
   ]
  },
  {
   "cell_type": "code",
   "execution_count": 154,
   "metadata": {},
   "outputs": [
    {
     "data": {
      "image/png": "[encoded data removed]",
      "text/plain": [
       "<matplotlib.figure.Figure at 0x136964eb0b8>"
      ]
     },
     "metadata": {},
     "output_type": "display_data"
    },
    {
     "data": {
      "text/html": [
       "<div>\n",
       "<table border=\"1\" class=\"dataframe\">\n",
       "  <thead>\n",
       "    <tr style=\"text-align: right;\">\n",
       "      <th></th>\n",
       "      <th>whole counts</th>\n",
       "      <th>winning counts</th>\n",
       "      <th>whole occurance</th>\n",
       "      <th>whole winning %</th>\n",
       "    </tr>\n",
       "    <tr>\n",
       "      <th>rank cat</th>\n",
       "      <th></th>\n",
       "      <th></th>\n",
       "      <th></th>\n",
       "      <th></th>\n",
       "    </tr>\n",
       "  </thead>\n",
       "  <tbody>\n",
       "    <tr>\n",
       "      <th>high pair</th>\n",
       "      <td>36008</td>\n",
       "      <td>8037</td>\n",
       "      <td>0.018004</td>\n",
       "      <td>0.223200</td>\n",
       "    </tr>\n",
       "    <tr>\n",
       "      <th>mid pair</th>\n",
       "      <td>45066</td>\n",
       "      <td>7825</td>\n",
       "      <td>0.022533</td>\n",
       "      <td>0.173634</td>\n",
       "    </tr>\n",
       "    <tr>\n",
       "      <th>low pair</th>\n",
       "      <td>36235</td>\n",
       "      <td>5496</td>\n",
       "      <td>0.018118</td>\n",
       "      <td>0.151677</td>\n",
       "    </tr>\n",
       "    <tr>\n",
       "      <th>high 1gap</th>\n",
       "      <td>120804</td>\n",
       "      <td>17604</td>\n",
       "      <td>0.060402</td>\n",
       "      <td>0.145724</td>\n",
       "    </tr>\n",
       "    <tr>\n",
       "      <th>high 2gap</th>\n",
       "      <td>120253</td>\n",
       "      <td>16676</td>\n",
       "      <td>0.060127</td>\n",
       "      <td>0.138674</td>\n",
       "    </tr>\n",
       "    <tr>\n",
       "      <th>high 3gap</th>\n",
       "      <td>121204</td>\n",
       "      <td>15886</td>\n",
       "      <td>0.060602</td>\n",
       "      <td>0.131068</td>\n",
       "    </tr>\n",
       "    <tr>\n",
       "      <th>mid 1gap</th>\n",
       "      <td>120455</td>\n",
       "      <td>15694</td>\n",
       "      <td>0.060228</td>\n",
       "      <td>0.130289</td>\n",
       "    </tr>\n",
       "    <tr>\n",
       "      <th>high 4gap</th>\n",
       "      <td>121094</td>\n",
       "      <td>14799</td>\n",
       "      <td>0.060547</td>\n",
       "      <td>0.122211</td>\n",
       "    </tr>\n",
       "    <tr>\n",
       "      <th>mid 2gap</th>\n",
       "      <td>120927</td>\n",
       "      <td>14522</td>\n",
       "      <td>0.060464</td>\n",
       "      <td>0.120089</td>\n",
       "    </tr>\n",
       "    <tr>\n",
       "      <th>mid 3gap</th>\n",
       "      <td>120170</td>\n",
       "      <td>12999</td>\n",
       "      <td>0.060085</td>\n",
       "      <td>0.108172</td>\n",
       "    </tr>\n",
       "    <tr>\n",
       "      <th>high 5gap+</th>\n",
       "      <td>531193</td>\n",
       "      <td>56403</td>\n",
       "      <td>0.265597</td>\n",
       "      <td>0.106182</td>\n",
       "    </tr>\n",
       "    <tr>\n",
       "      <th>low 2gap</th>\n",
       "      <td>48039</td>\n",
       "      <td>4865</td>\n",
       "      <td>0.024019</td>\n",
       "      <td>0.101272</td>\n",
       "    </tr>\n",
       "    <tr>\n",
       "      <th>low 1gap</th>\n",
       "      <td>72160</td>\n",
       "      <td>7201</td>\n",
       "      <td>0.036080</td>\n",
       "      <td>0.099792</td>\n",
       "    </tr>\n",
       "    <tr>\n",
       "      <th>mid 4gap</th>\n",
       "      <td>120785</td>\n",
       "      <td>11856</td>\n",
       "      <td>0.060393</td>\n",
       "      <td>0.098158</td>\n",
       "    </tr>\n",
       "    <tr>\n",
       "      <th>low 3gap</th>\n",
       "      <td>24291</td>\n",
       "      <td>2379</td>\n",
       "      <td>0.012146</td>\n",
       "      <td>0.097938</td>\n",
       "    </tr>\n",
       "    <tr>\n",
       "      <th>mid 5gap+</th>\n",
       "      <td>241316</td>\n",
       "      <td>21897</td>\n",
       "      <td>0.120658</td>\n",
       "      <td>0.090740</td>\n",
       "    </tr>\n",
       "  </tbody>\n",
       "</table>\n",
       "</div>"
      ],
      "text/plain": [
       "            whole counts  winning counts  whole occurance  whole winning %\n",
       "rank cat                                                                  \n",
       "high pair          36008            8037         0.018004         0.223200\n",
       "mid pair           45066            7825         0.022533         0.173634\n",
       "low pair           36235            5496         0.018118         0.151677\n",
       "high 1gap         120804           17604         0.060402         0.145724\n",
       "high 2gap         120253           16676         0.060127         0.138674\n",
       "high 3gap         121204           15886         0.060602         0.131068\n",
       "mid 1gap          120455           15694         0.060228         0.130289\n",
       "high 4gap         121094           14799         0.060547         0.122211\n",
       "mid 2gap          120927           14522         0.060464         0.120089\n",
       "mid 3gap          120170           12999         0.060085         0.108172\n",
       "high 5gap+        531193           56403         0.265597         0.106182\n",
       "low 2gap           48039            4865         0.024019         0.101272\n",
       "low 1gap           72160            7201         0.036080         0.099792\n",
       "mid 4gap          120785           11856         0.060393         0.098158\n",
       "low 3gap           24291            2379         0.012146         0.097938\n",
       "mid 5gap+         241316           21897         0.120658         0.090740"
      ]
     },
     "execution_count": 154,
     "metadata": {},
     "output_type": "execute_result"
    }
   ],
   "source": [
    "#groupby and compare rank categories to see if there's a clear difference in winning percentage. Plot if necessary\n",
    "temp = all_possible_whole.groupby('rank cat')[['rank cat', 'whole counts', 'winning counts']].sum()\n",
    "temp['whole occurance'] = temp['whole counts'] / hands / participants\n",
    "temp['whole winning %'] = temp['winning counts'] / temp['whole counts']\n",
    "temp.sort_values(by = 'whole winning %', ascending = False, inplace = True)\n",
    "temp['whole winning %'].plot(kind = 'bar')\n",
    "plt.ylabel('Winning %')\n",
    "plt.title('Winning Percentages - Different Ranks')\n",
    "plt.show()\n",
    "temp.head(20)"
   ]
  },
  {
   "cell_type": "code",
   "execution_count": 169,
   "metadata": {},
   "outputs": [
    {
     "data": {
      "image/png": "[encoded data removed]",
      "text/plain": [
       "<matplotlib.figure.Figure at 0x13681460860>"
      ]
     },
     "metadata": {},
     "output_type": "display_data"
    },
    {
     "data": {
      "image/png": "[encoded data removed]",
      "text/plain": [
       "<matplotlib.figure.Figure at 0x136814fe6a0>"
      ]
     },
     "metadata": {},
     "output_type": "display_data"
    }
   ],
   "source": [
    "#let's use seaborn to give us a more definitive answer about ranks and suits\n",
    "temp = all_possible_whole.groupby(['rank cat', 'suit cat'])[['rank cat', 'suit cat', 'whole counts', 'winning counts']].sum().reset_index()\n",
    "temp['whole occurance'] = temp['whole counts'] / hands / participants\n",
    "temp['whole winning %'] = temp['winning counts'] / temp['whole counts']\n",
    "temp.sort_values(by = 'whole winning %', ascending = False, inplace = True)\n",
    "sns.barplot(data = temp, x = 'rank cat', y = 'whole winning %', hue = 'suit cat')\n",
    "plt.xticks(rotation = 90)\n",
    "plt.title('Winning percentages by suit&rank categories')\n",
    "plt.show()\n",
    "sns.barplot(data = temp, x = 'rank cat', y = 'whole occurance', hue = 'suit cat')\n",
    "plt.xticks(rotation = 90)\n",
    "plt.title('How often do these hands occur?')\n",
    "plt.show()"
   ]
  },
  {
   "cell_type": "markdown",
   "metadata": {},
   "source": [
    "Within the top winning rank & suit combination, let's actually look at the cards winning percentages and occurances:\n",
    "1. high pair\n",
    "2. high 1gap same suit\n",
    "3. mid pair\n",
    "4. high 2gap same suit\n",
    "5. high 3gap same suit\n",
    "6. mid 1gap same suit\n",
    "7. low pair\n",
    "8. high 4gap same suit\n",
    "9. mid 2gap same suit\n",
    "10. high 5gap+ same suit (~14% chances of winning)"
   ]
  },
  {
   "cell_type": "code",
   "execution_count": 180,
   "metadata": {},
   "outputs": [
    {
     "data": {
      "text/html": [
       "<div>\n",
       "<table border=\"1\" class=\"dataframe\">\n",
       "  <thead>\n",
       "    <tr style=\"text-align: right;\">\n",
       "      <th></th>\n",
       "      <th>whole</th>\n",
       "      <th>whole rank</th>\n",
       "      <th>whole suit</th>\n",
       "      <th>suit cat</th>\n",
       "      <th>rank cat</th>\n",
       "      <th>whole counts</th>\n",
       "      <th>winning counts</th>\n",
       "      <th>whole occurance</th>\n",
       "      <th>whole winning %</th>\n",
       "    </tr>\n",
       "  </thead>\n",
       "  <tbody>\n",
       "    <tr>\n",
       "      <th>34</th>\n",
       "      <td>(9♠, 9♡)</td>\n",
       "      <td>(9, 9)</td>\n",
       "      <td>(♠, ♡)</td>\n",
       "      <td>diff</td>\n",
       "      <td>mid pair</td>\n",
       "      <td>1511</td>\n",
       "      <td>250</td>\n",
       "      <td>0.000755</td>\n",
       "      <td>0.165453</td>\n",
       "    </tr>\n",
       "    <tr>\n",
       "      <th>39</th>\n",
       "      <td>(9♠, 9♣)</td>\n",
       "      <td>(9, 9)</td>\n",
       "      <td>(♠, ♣)</td>\n",
       "      <td>diff</td>\n",
       "      <td>mid pair</td>\n",
       "      <td>1485</td>\n",
       "      <td>258</td>\n",
       "      <td>0.000742</td>\n",
       "      <td>0.173737</td>\n",
       "    </tr>\n",
       "    <tr>\n",
       "      <th>41</th>\n",
       "      <td>(9♠, 9♢)</td>\n",
       "      <td>(9, 9)</td>\n",
       "      <td>(♠, ♢)</td>\n",
       "      <td>diff</td>\n",
       "      <td>mid pair</td>\n",
       "      <td>1534</td>\n",
       "      <td>277</td>\n",
       "      <td>0.000767</td>\n",
       "      <td>0.180574</td>\n",
       "    </tr>\n",
       "    <tr>\n",
       "      <th>60</th>\n",
       "      <td>(12♠, 12♢)</td>\n",
       "      <td>(12, 12)</td>\n",
       "      <td>(♠, ♢)</td>\n",
       "      <td>diff</td>\n",
       "      <td>high pair</td>\n",
       "      <td>1503</td>\n",
       "      <td>333</td>\n",
       "      <td>0.000751</td>\n",
       "      <td>0.221557</td>\n",
       "    </tr>\n",
       "    <tr>\n",
       "      <th>69</th>\n",
       "      <td>(12♡, 12♢)</td>\n",
       "      <td>(12, 12)</td>\n",
       "      <td>(♡, ♢)</td>\n",
       "      <td>diff</td>\n",
       "      <td>high pair</td>\n",
       "      <td>1451</td>\n",
       "      <td>302</td>\n",
       "      <td>0.000726</td>\n",
       "      <td>0.208132</td>\n",
       "    </tr>\n",
       "  </tbody>\n",
       "</table>\n",
       "</div>"
      ],
      "text/plain": [
       "         whole whole rank whole suit suit cat   rank cat  whole counts  \\\n",
       "34    (9♠, 9♡)     (9, 9)     (♠, ♡)     diff   mid pair          1511   \n",
       "39    (9♠, 9♣)     (9, 9)     (♠, ♣)     diff   mid pair          1485   \n",
       "41    (9♠, 9♢)     (9, 9)     (♠, ♢)     diff   mid pair          1534   \n",
       "60  (12♠, 12♢)   (12, 12)     (♠, ♢)     diff  high pair          1503   \n",
       "69  (12♡, 12♢)   (12, 12)     (♡, ♢)     diff  high pair          1451   \n",
       "\n",
       "    winning counts  whole occurance  whole winning %  \n",
       "34             250         0.000755         0.165453  \n",
       "39             258         0.000742         0.173737  \n",
       "41             277         0.000767         0.180574  \n",
       "60             333         0.000751         0.221557  \n",
       "69             302         0.000726         0.208132  "
      ]
     },
     "execution_count": 180,
     "metadata": {},
     "output_type": "execute_result"
    }
   ],
   "source": [
    "good_whole_criteria = ((all_possible_whole['rank cat'] == 'high pair') | (all_possible_whole['rank cat'] == 'mid pair') | \n",
    "                       (all_possible_whole['rank cat'] == 'low pair'))\n",
    "all_possible_whole[good_whole_criteria].head()"
   ]
  },
  {
   "cell_type": "code",
   "execution_count": null,
   "metadata": {},
   "outputs": [],
   "source": [
    "#groupby and compare rank categories to see if there's a clear difference in winning percentage. Plot if necessary\n",
    "all_possible_whole['whole occurance'] = all_possible_whole['whole counts'] / hands / participants\n",
    "all_possible_whole['whole winning %'] = all_possible_whole['winning counts'] / all_possible_whole['whole counts']"
   ]
  },
  {
   "cell_type": "markdown",
   "metadata": {},
   "source": [
    "Answer the following questions:\n",
    "    \n",
    "1. what hands have very slim chance of winning? by rank and suits?\n",
    "    - suits can be classified as matching or not\n",
    "    - ranks can be classified as connecting, 1 gap, 2 gaps, etc\n",
    "    - ranks can also be looked at by pairs, have at least an Ace, King, etc\n",
    "2. what is the cutoff standard for winning percentages?\n",
    "    - we can sort and plot. see if there's an elbow in the plot, for the categories that we've came up with\n",
    "    - we can also answer some myths:\n",
    "        - are 2, 7s the worst hands?\n",
    "        - small pairs, do they always suck?\n",
    "3. What ends up being the eventual winners?\n",
    "    - what are the eventual winners and their whole?\n",
    "    - how often do these winners appear?\n",
    "    - what type of hands and what are their chances of becoming eventual winners\n",
    "    - "
   ]
  },
  {
   "cell_type": "code",
   "execution_count": 115,
   "metadata": {},
   "outputs": [
    {
     "data": {
      "text/plain": [
       "whole suit    11663\n",
       "dtype: int64"
      ]
     },
     "execution_count": 115,
     "metadata": {},
     "output_type": "execute_result"
    }
   ],
   "source": [
    "winning_df['whole suit'].count()"
   ]
  },
  {
   "cell_type": "markdown",
   "metadata": {},
   "source": [
    "I need a function that tells me the possibilities with the whole and the community, namely the outs I have for improving my current position.\n",
    "\n",
    "When it's whole cards, we'll look at the winning percentages by previous experiences. After the flop, we'll look at the best possible hands that would improve current position:\n",
    "0. identify itself by using the 5 cards we already have.\n",
    "1. add two blanks, iterate through all the possiblities:\n",
    "    - look at those with the same score and above\n",
    "    - list out all the possible cards that would improve position.\n",
    "After the turn:\n",
    "0. identify itself by using the 6 cards we already have.\n",
    "1. add 1 blanks, iterate through all the possibilities:\n",
    "    - look at those with the same score and above\n",
    "    - list out all the possible cards that would improve position.\n",
    "After the river:\n",
    "0. identify itself by using the 7 cards we already have."
   ]
  },
  {
   "cell_type": "code",
   "execution_count": null,
   "metadata": {},
   "outputs": [],
   "source": []
  },
  {
   "cell_type": "markdown",
   "metadata": {},
   "source": [
    "I also need a function that compares hands on the game board if all cards are visible. This will come from one player's POV, and evaluate hands against his opponent(s)."
   ]
  },
  {
   "cell_type": "code",
   "execution_count": null,
   "metadata": {},
   "outputs": [],
   "source": []
  },
  {
   "cell_type": "code",
   "execution_count": null,
   "metadata": {},
   "outputs": [],
   "source": []
  },
  {
   "cell_type": "code",
   "execution_count": null,
   "metadata": {},
   "outputs": [],
   "source": []
  }
 ],
 "metadata": {
  "kernelspec": {
   "display_name": "Python 3",
   "language": "python",
   "name": "python3"
  },
  "language_info": {
   "codemirror_mode": {
    "name": "ipython",
    "version": 3
   },
   "file_extension": ".py",
   "mimetype": "text/x-python",
   "name": "python",
   "nbconvert_exporter": "python",
   "pygments_lexer": "ipython3",
   "version": "3.5.3"
  }
 },
 "nbformat": 4,
 "nbformat_minor": 2
}
