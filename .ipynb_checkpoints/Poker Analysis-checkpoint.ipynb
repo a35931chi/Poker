{
 "cells": [
  {
   "cell_type": "markdown",
   "metadata": {},
   "source": [
    "My goal for this notebook is to develop some intuition about poker, specifically for the Texas Hold'em game. \n",
    "\n",
    "Some things I want to know is:\n",
    "1. If I'm dealt certain whole cards, should I play it or not?\n",
    "2. For certain whole cards, what are my chances of improving my hands?\n",
    "3. Does the game change when I play with different number of opponents?"
   ]
  },
  {
   "cell_type": "code",
   "execution_count": 11,
   "metadata": {},
   "outputs": [],
   "source": [
    "import pandas as pd\n",
    "import numpy as np\n",
    "import matplotlib.pyplot as plt\n",
    "from PIL import Image\n",
    "from time import time\n",
    "import itertools\n",
    "import pickle\n",
    "import os.path\n",
    "\n",
    "from Basics import Deck, test_shuffle\n",
    "from win_lose import evaluate_7cards, evaluate_5cards, best_hand\n",
    "from Game_Board import Test_Game"
   ]
  },
  {
   "cell_type": "markdown",
   "metadata": {},
   "source": [
    "Testing basic functions and methods"
   ]
  },
  {
   "cell_type": "code",
   "execution_count": 2,
   "metadata": {},
   "outputs": [],
   "source": [
    "mydeck = Deck()"
   ]
  },
  {
   "cell_type": "code",
   "execution_count": 3,
   "metadata": {
    "scrolled": true
   },
   "outputs": [
    {
     "data": {
      "text/plain": [
       "['14♣',\n",
       " '2♣',\n",
       " '3♣',\n",
       " '4♣',\n",
       " '5♣',\n",
       " '6♣',\n",
       " '7♣',\n",
       " '8♣',\n",
       " '9♣',\n",
       " '10♣',\n",
       " '11♣',\n",
       " '12♣',\n",
       " '13♣',\n",
       " '14♢',\n",
       " '2♢',\n",
       " '3♢',\n",
       " '4♢',\n",
       " '5♢',\n",
       " '6♢',\n",
       " '7♢',\n",
       " '8♢',\n",
       " '9♢',\n",
       " '10♢',\n",
       " '11♢',\n",
       " '12♢',\n",
       " '13♢',\n",
       " '14♡',\n",
       " '2♡',\n",
       " '3♡',\n",
       " '4♡',\n",
       " '5♡',\n",
       " '6♡',\n",
       " '7♡',\n",
       " '8♡',\n",
       " '9♡',\n",
       " '10♡',\n",
       " '11♡',\n",
       " '12♡',\n",
       " '13♡',\n",
       " '14♠',\n",
       " '2♠',\n",
       " '3♠',\n",
       " '4♠',\n",
       " '5♠',\n",
       " '6♠',\n",
       " '7♠',\n",
       " '8♠',\n",
       " '9♠',\n",
       " '10♠',\n",
       " '11♠',\n",
       " '12♠',\n",
       " '13♠']"
      ]
     },
     "execution_count": 3,
     "metadata": {},
     "output_type": "execute_result"
    }
   ],
   "source": [
    "#showing the unshuffled order of the deck\n",
    "mydeck.order()"
   ]
  },
  {
   "cell_type": "code",
   "execution_count": 4,
   "metadata": {
    "scrolled": true
   },
   "outputs": [],
   "source": [
    "#testing the shuffle function in Deck to see if hands are distributed equally\n",
    "df_test_shuffle = test_shuffle(mydeck, 10000)"
   ]
  },
  {
   "cell_type": "code",
   "execution_count": 5,
   "metadata": {},
   "outputs": [
    {
     "data": {
      "text/plain": [
       "8♠     25.8726\n",
       "6♠     25.7781\n",
       "10♠    25.7619\n",
       "8♡     25.7111\n",
       "13♠    25.6960\n",
       "12♣    25.6719\n",
       "2♣     25.6678\n",
       "9♡     25.6628\n",
       "10♢    25.6511\n",
       "7♠     25.6464\n",
       "5♣     25.6388\n",
       "8♢     25.6263\n",
       "3♠     25.6162\n",
       "2♡     25.6088\n",
       "2♢     25.5987\n",
       "11♢    25.5882\n",
       "10♡    25.5817\n",
       "6♣     25.5593\n",
       "12♢    25.5552\n",
       "14♢    25.5364\n",
       "9♣     25.5328\n",
       "7♡     25.5201\n",
       "14♣    25.5178\n",
       "3♣     25.5139\n",
       "14♠    25.5052\n",
       "3♡     25.5027\n",
       "11♣    25.5007\n",
       "14♡    25.4963\n",
       "11♡    25.4933\n",
       "9♠     25.4859\n",
       "8♣     25.4855\n",
       "5♠     25.4842\n",
       "4♣     25.4763\n",
       "7♣     25.4759\n",
       "6♡     25.4623\n",
       "9♢     25.4385\n",
       "4♢     25.4305\n",
       "13♢    25.4296\n",
       "12♡    25.4228\n",
       "10♣    25.4132\n",
       "4♠     25.3972\n",
       "13♣    25.3922\n",
       "11♠    25.3483\n",
       "2♠     25.3301\n",
       "4♡     25.3076\n",
       "12♠    25.2904\n",
       "6♢     25.2800\n",
       "13♡    25.2480\n",
       "3♢     25.2406\n",
       "5♢     25.2377\n",
       "7♢     25.2060\n",
       "5♡     25.1051\n",
       "Name: avg_hand_freq, dtype: float64"
      ]
     },
     "execution_count": 5,
     "metadata": {},
     "output_type": "execute_result"
    }
   ],
   "source": [
    "s_test_summary = df_test_shuffle.mean().sort_values(ascending = False).rename('avg_hand_freq')\n",
    "s_test_summary"
   ]
  },
  {
   "cell_type": "code",
   "execution_count": 6,
   "metadata": {},
   "outputs": [
    {
     "data": {
      "image/png": "[encoded data removed]",
      "text/plain": [
       "<matplotlib.figure.Figure at 0x136935c60b8>"
      ]
     },
     "metadata": {},
     "output_type": "display_data"
    }
   ],
   "source": [
    "s_test_summary.plot(kind = 'barh')\n",
    "plt.show()"
   ]
  },
  {
   "cell_type": "markdown",
   "metadata": {},
   "source": [
    "Seems like the classes and the shuffle functions working okay"
   ]
  },
  {
   "cell_type": "markdown",
   "metadata": {},
   "source": [
    "Trying to run some code a few times to collect some simulation data"
   ]
  },
  {
   "cell_type": "code",
   "execution_count": null,
   "metadata": {},
   "outputs": [
    {
     "name": "stdout",
     "output_type": "stream",
     "text": [
      "starting time: 1533085451.498585\n"
     ]
    }
   ],
   "source": [
    "print('starting time: {}'.format(time()))\n",
    "t0 = time()\n",
    "winning_df = pd.DataFrame()\n",
    "hands = 200000\n",
    "for i in range(hands):\n",
    "    winner_data = []\n",
    "\n",
    "    participants = 10\n",
    "\n",
    "    game_info = []\n",
    "    whole_cards, comm = Test_Game('HOLDEM', participants)\n",
    "\n",
    "    for player in whole_cards:\n",
    "        player_cards = whole_cards[player]\n",
    "\n",
    "        game_info.append([player, player_cards, comm])\n",
    "\n",
    "\n",
    "    game_info_df = pd.DataFrame(game_info, columns = ['player', 'whole', 'comm'])\n",
    "    game_info_df['combined'] = game_info_df['whole'] + game_info_df['comm']\n",
    "    game_info_df['mess'] = game_info_df['combined'].apply(evaluate_7cards)\n",
    "    game_info_df['best hand'] = game_info_df['mess'].apply(lambda x:x[0][0])\n",
    "    game_info_df['eval'] = game_info_df['mess'].apply(lambda x:x[0][1])\n",
    "    best = best_hand(list(game_info_df['mess'].apply(lambda x:x[0])))\n",
    "\n",
    "    winner = game_info_df[game_info_df['eval'] == best[0][1]][['player', 'whole', 'comm', 'best hand', 'eval']]\n",
    "    winner['round'] = i\n",
    "    winning_df = winning_df.append(winner)\n",
    "\n",
    "print('took {} seconds'.format(time() - t0))\n",
    "print(winning_df.head())\n",
    "#seems like for every 10 games, it takes ~5 seconds to run the algo\n",
    "#so 1,000,000 games should take 500,000 seconds = 8333 mins = 138 hrs = 5.7 days to run."
   ]
  },
  {
   "cell_type": "code",
   "execution_count": null,
   "metadata": {},
   "outputs": [],
   "source": [
    "#might want to save this thing\n",
    "#should run it for 2, 5 and 10 players\n",
    "file_name = 'Data/whole_card_sim_200k_10p.pickle' #this is for 10p\n",
    "#file_name = 'Data/whole_card_sim_200k_5p.pickle' #this is for 5p\n",
    "#file_name = 'Data/whole_card_sim_200k_2p.pickle' #this is for 2p"
   ]
  },
  {
   "cell_type": "code",
   "execution_count": null,
   "metadata": {},
   "outputs": [],
   "source": [
    "if os.path.isfile(file_name):\n",
    "    answer = input('File already exists. Do you want to overwrite? (y/n) ')\n",
    "    if answer == 'y':\n",
    "        with open(file_name, 'wb') as handle: \n",
    "                pickle.dump(winning_df, handle, protocol=pickle.HIGHEST_PROTOCOL)"
   ]
  },
  {
   "cell_type": "code",
   "execution_count": 12,
   "metadata": {},
   "outputs": [],
   "source": [
    "with open(file_name, 'rb') as handle:\n",
    "    winning_df = pickle.load(handle)"
   ]
  },
  {
   "cell_type": "code",
   "execution_count": 13,
   "metadata": {},
   "outputs": [
    {
     "data": {
      "text/html": [
       "<div>\n",
       "<table border=\"1\" class=\"dataframe\">\n",
       "  <thead>\n",
       "    <tr style=\"text-align: right;\">\n",
       "      <th></th>\n",
       "      <th>player</th>\n",
       "      <th>whole</th>\n",
       "      <th>comm</th>\n",
       "      <th>best hand</th>\n",
       "      <th>eval</th>\n",
       "      <th>round</th>\n",
       "    </tr>\n",
       "  </thead>\n",
       "  <tbody>\n",
       "    <tr>\n",
       "      <th>5</th>\n",
       "      <td>5</td>\n",
       "      <td>[12♡, 8♡]</td>\n",
       "      <td>[5♡, 4♠, 9♡, 6♠, 3♡]</td>\n",
       "      <td>(12♡, 8♡, 5♡, 9♡, 3♡)</td>\n",
       "      <td>(6, Flush, [12, 9, 8, 5, 3], 0)</td>\n",
       "      <td>0</td>\n",
       "    </tr>\n",
       "    <tr>\n",
       "      <th>1</th>\n",
       "      <td>1</td>\n",
       "      <td>[13♢, 4♠]</td>\n",
       "      <td>[7♣, 2♠, 2♣, 9♡, 9♠]</td>\n",
       "      <td>(13♢, 2♠, 2♣, 9♡, 9♠)</td>\n",
       "      <td>(3, 2 Pairs, [9, 2], 13)</td>\n",
       "      <td>1</td>\n",
       "    </tr>\n",
       "    <tr>\n",
       "      <th>2</th>\n",
       "      <td>2</td>\n",
       "      <td>[13♣, 6♡]</td>\n",
       "      <td>[7♣, 2♠, 2♣, 9♡, 9♠]</td>\n",
       "      <td>(13♣, 2♠, 2♣, 9♡, 9♠)</td>\n",
       "      <td>(3, 2 Pairs, [9, 2], 13)</td>\n",
       "      <td>1</td>\n",
       "    </tr>\n",
       "    <tr>\n",
       "      <th>7</th>\n",
       "      <td>7</td>\n",
       "      <td>[6♠, 13♡]</td>\n",
       "      <td>[7♣, 2♠, 2♣, 9♡, 9♠]</td>\n",
       "      <td>(13♡, 2♠, 2♣, 9♡, 9♠)</td>\n",
       "      <td>(3, 2 Pairs, [9, 2], 13)</td>\n",
       "      <td>1</td>\n",
       "    </tr>\n",
       "    <tr>\n",
       "      <th>6</th>\n",
       "      <td>6</td>\n",
       "      <td>[9♠, 8♠]</td>\n",
       "      <td>[14♠, 10♠, 7♡, 3♢, 9♢]</td>\n",
       "      <td>(9♠, 8♠, 14♠, 10♠, 9♢)</td>\n",
       "      <td>(2, 1 Pair, 9, [14, 10, 8])</td>\n",
       "      <td>2</td>\n",
       "    </tr>\n",
       "  </tbody>\n",
       "</table>\n",
       "</div>"
      ],
      "text/plain": [
       "   player      whole                    comm               best hand  \\\n",
       "5       5  [12♡, 8♡]    [5♡, 4♠, 9♡, 6♠, 3♡]   (12♡, 8♡, 5♡, 9♡, 3♡)   \n",
       "1       1  [13♢, 4♠]    [7♣, 2♠, 2♣, 9♡, 9♠]   (13♢, 2♠, 2♣, 9♡, 9♠)   \n",
       "2       2  [13♣, 6♡]    [7♣, 2♠, 2♣, 9♡, 9♠]   (13♣, 2♠, 2♣, 9♡, 9♠)   \n",
       "7       7  [6♠, 13♡]    [7♣, 2♠, 2♣, 9♡, 9♠]   (13♡, 2♠, 2♣, 9♡, 9♠)   \n",
       "6       6   [9♠, 8♠]  [14♠, 10♠, 7♡, 3♢, 9♢]  (9♠, 8♠, 14♠, 10♠, 9♢)   \n",
       "\n",
       "                              eval  round  \n",
       "5  (6, Flush, [12, 9, 8, 5, 3], 0)      0  \n",
       "1         (3, 2 Pairs, [9, 2], 13)      1  \n",
       "2         (3, 2 Pairs, [9, 2], 13)      1  \n",
       "7         (3, 2 Pairs, [9, 2], 13)      1  \n",
       "6      (2, 1 Pair, 9, [14, 10, 8])      2  "
      ]
     },
     "execution_count": 13,
     "metadata": {},
     "output_type": "execute_result"
    }
   ],
   "source": [
    "winning_df.head()"
   ]
  },
  {
   "cell_type": "code",
   "execution_count": 18,
   "metadata": {},
   "outputs": [
    {
     "name": "stdout",
     "output_type": "stream",
     "text": [
      "         whole\n",
      "100  (12♢, 8♠)\n",
      "101  (2♢, 10♢)\n",
      "102   (2♢, 7♡)\n",
      "103  (2♢, 11♢)\n",
      "104  (2♢, 14♠)\n",
      "105   (2♢, 5♡)\n",
      "         whole whole rank whole suit\n",
      "100  (12♢, 8♠)    (8, 12)     (♠, ♢)\n",
      "101  (10♢, 2♢)    (2, 10)     (♢, ♢)\n",
      "102   (2♢, 7♡)     (2, 7)     (♡, ♢)\n",
      "103  (11♢, 2♢)    (2, 11)     (♢, ♢)\n",
      "104  (14♠, 2♢)    (2, 14)     (♠, ♢)\n",
      "105   (2♢, 5♡)     (2, 5)     (♡, ♢)\n",
      "(1326, 3)\n"
     ]
    }
   ],
   "source": [
    "all_possible_whole = pd.DataFrame({'whole':[whole for whole in list(itertools.combinations(mydeck.order(), 2))]})\n",
    "print(all_possible_whole.iloc[100:106])\n",
    "all_possible_whole['whole rank'] = all_possible_whole['whole'].apply(lambda x: [int(i[:-1]) for i in x]).apply(lambda x: sorted(x)).apply(tuple)\n",
    "all_possible_whole['whole suit'] = all_possible_whole['whole'].apply(lambda x: [i[-1] for i in x]).apply(lambda x: sorted(x)).apply(tuple)\n",
    "all_possible_whole['whole'] = all_possible_whole['whole'].apply(sorted).apply(tuple)\n",
    "print(all_possible_whole.iloc[100:106])\n",
    "print(all_possible_whole.shape)"
   ]
  },
  {
   "cell_type": "code",
   "execution_count": 19,
   "metadata": {},
   "outputs": [
    {
     "name": "stdout",
     "output_type": "stream",
     "text": [
      "            counts\n",
      "(14♡, 14♣)     390\n",
      "(14♠, 14♡)     388\n",
      "(14♠, 14♣)     384\n",
      "(13♠, 13♣)     378\n",
      "(13♠, 13♡)     377\n",
      "(1326, 1)\n"
     ]
    }
   ],
   "source": [
    "winning_df_summary = winning_df['whole'].apply(sorted).apply(tuple).copy().value_counts().to_frame()\n",
    "winning_df_summary.rename(columns = {'whole': 'counts'}, inplace = True)\n",
    "print(winning_df_summary.head())\n",
    "print(winning_df_summary.shape)"
   ]
  },
  {
   "cell_type": "code",
   "execution_count": 20,
   "metadata": {},
   "outputs": [
    {
     "name": "stdout",
     "output_type": "stream",
     "text": [
      "(1326, 4)\n",
      "       whole whole rank whole suit  counts\n",
      "0  (12♢, 9♠)    (9, 12)     (♠, ♢)     196\n",
      "1   (2♢, 9♠)     (2, 9)     (♠, ♢)     124\n",
      "2  (10♢, 9♠)    (9, 10)     (♠, ♢)     215\n",
      "3   (7♡, 9♠)     (7, 9)     (♠, ♡)     167\n",
      "4  (11♢, 9♠)    (9, 11)     (♠, ♢)     200\n"
     ]
    }
   ],
   "source": [
    "all_possible_whole = all_possible_whole.merge(winning_df_summary, how = 'outer', left_on = 'whole', right_index = True)\n",
    "print(all_possible_whole.shape)\n",
    "print(all_possible_whole.head())"
   ]
  },
  {
   "cell_type": "code",
   "execution_count": 22,
   "metadata": {},
   "outputs": [
    {
     "data": {
      "text/html": [
       "<div>\n",
       "<table border=\"1\" class=\"dataframe\">\n",
       "  <thead>\n",
       "    <tr style=\"text-align: right;\">\n",
       "      <th></th>\n",
       "      <th>whole</th>\n",
       "      <th>whole rank</th>\n",
       "      <th>whole suit</th>\n",
       "      <th>counts</th>\n",
       "    </tr>\n",
       "  </thead>\n",
       "  <tbody>\n",
       "    <tr>\n",
       "      <th>122</th>\n",
       "      <td>(2♠, 2♢)</td>\n",
       "      <td>(2, 2)</td>\n",
       "      <td>(♠, ♢)</td>\n",
       "      <td>228</td>\n",
       "    </tr>\n",
       "    <tr>\n",
       "      <th>136</th>\n",
       "      <td>(2♢, 2♣)</td>\n",
       "      <td>(2, 2)</td>\n",
       "      <td>(♢, ♣)</td>\n",
       "      <td>208</td>\n",
       "    </tr>\n",
       "    <tr>\n",
       "      <th>139</th>\n",
       "      <td>(2♡, 2♢)</td>\n",
       "      <td>(2, 2)</td>\n",
       "      <td>(♡, ♢)</td>\n",
       "      <td>229</td>\n",
       "    </tr>\n",
       "    <tr>\n",
       "      <th>961</th>\n",
       "      <td>(2♠, 2♣)</td>\n",
       "      <td>(2, 2)</td>\n",
       "      <td>(♠, ♣)</td>\n",
       "      <td>225</td>\n",
       "    </tr>\n",
       "    <tr>\n",
       "      <th>964</th>\n",
       "      <td>(2♠, 2♡)</td>\n",
       "      <td>(2, 2)</td>\n",
       "      <td>(♠, ♡)</td>\n",
       "      <td>225</td>\n",
       "    </tr>\n",
       "    <tr>\n",
       "      <th>1237</th>\n",
       "      <td>(2♡, 2♣)</td>\n",
       "      <td>(2, 2)</td>\n",
       "      <td>(♡, ♣)</td>\n",
       "      <td>216</td>\n",
       "    </tr>\n",
       "  </tbody>\n",
       "</table>\n",
       "</div>"
      ],
      "text/plain": [
       "         whole whole rank whole suit  counts\n",
       "122   (2♠, 2♢)     (2, 2)     (♠, ♢)     228\n",
       "136   (2♢, 2♣)     (2, 2)     (♢, ♣)     208\n",
       "139   (2♡, 2♢)     (2, 2)     (♡, ♢)     229\n",
       "961   (2♠, 2♣)     (2, 2)     (♠, ♣)     225\n",
       "964   (2♠, 2♡)     (2, 2)     (♠, ♡)     225\n",
       "1237  (2♡, 2♣)     (2, 2)     (♡, ♣)     216"
      ]
     },
     "execution_count": 22,
     "metadata": {},
     "output_type": "execute_result"
    }
   ],
   "source": [
    "all_possible_whole[all_possible_whole['whole rank'] == (2, 2)]"
   ]
  },
  {
   "cell_type": "code",
   "execution_count": 24,
   "metadata": {},
   "outputs": [
    {
     "data": {
      "text/html": [
       "<div>\n",
       "<table border=\"1\" class=\"dataframe\">\n",
       "  <thead>\n",
       "    <tr style=\"text-align: right;\">\n",
       "      <th></th>\n",
       "      <th>whole</th>\n",
       "      <th>whole rank</th>\n",
       "      <th>whole suit</th>\n",
       "      <th>counts</th>\n",
       "    </tr>\n",
       "  </thead>\n",
       "  <tbody>\n",
       "    <tr>\n",
       "      <th>104</th>\n",
       "      <td>(14♠, 2♢)</td>\n",
       "      <td>(2, 14)</td>\n",
       "      <td>(♠, ♢)</td>\n",
       "      <td>162</td>\n",
       "    </tr>\n",
       "    <tr>\n",
       "      <th>119</th>\n",
       "      <td>(14♢, 2♢)</td>\n",
       "      <td>(2, 14)</td>\n",
       "      <td>(♢, ♢)</td>\n",
       "      <td>223</td>\n",
       "    </tr>\n",
       "    <tr>\n",
       "      <th>126</th>\n",
       "      <td>(14♡, 2♢)</td>\n",
       "      <td>(2, 14)</td>\n",
       "      <td>(♡, ♢)</td>\n",
       "      <td>174</td>\n",
       "    </tr>\n",
       "    <tr>\n",
       "      <th>144</th>\n",
       "      <td>(14♣, 2♢)</td>\n",
       "      <td>(2, 14)</td>\n",
       "      <td>(♢, ♣)</td>\n",
       "      <td>167</td>\n",
       "    </tr>\n",
       "    <tr>\n",
       "      <th>308</th>\n",
       "      <td>(14♠, 2♠)</td>\n",
       "      <td>(2, 14)</td>\n",
       "      <td>(♠, ♠)</td>\n",
       "      <td>184</td>\n",
       "    </tr>\n",
       "    <tr>\n",
       "      <th>322</th>\n",
       "      <td>(14♠, 2♣)</td>\n",
       "      <td>(2, 14)</td>\n",
       "      <td>(♠, ♣)</td>\n",
       "      <td>161</td>\n",
       "    </tr>\n",
       "    <tr>\n",
       "      <th>325</th>\n",
       "      <td>(14♠, 2♡)</td>\n",
       "      <td>(2, 14)</td>\n",
       "      <td>(♠, ♡)</td>\n",
       "      <td>158</td>\n",
       "    </tr>\n",
       "    <tr>\n",
       "      <th>863</th>\n",
       "      <td>(14♢, 2♠)</td>\n",
       "      <td>(2, 14)</td>\n",
       "      <td>(♠, ♢)</td>\n",
       "      <td>123</td>\n",
       "    </tr>\n",
       "    <tr>\n",
       "      <th>877</th>\n",
       "      <td>(14♢, 2♣)</td>\n",
       "      <td>(2, 14)</td>\n",
       "      <td>(♢, ♣)</td>\n",
       "      <td>151</td>\n",
       "    </tr>\n",
       "    <tr>\n",
       "      <th>880</th>\n",
       "      <td>(14♢, 2♡)</td>\n",
       "      <td>(2, 14)</td>\n",
       "      <td>(♡, ♢)</td>\n",
       "      <td>139</td>\n",
       "    </tr>\n",
       "    <tr>\n",
       "      <th>951</th>\n",
       "      <td>(14♡, 2♠)</td>\n",
       "      <td>(2, 14)</td>\n",
       "      <td>(♠, ♡)</td>\n",
       "      <td>155</td>\n",
       "    </tr>\n",
       "    <tr>\n",
       "      <th>969</th>\n",
       "      <td>(14♣, 2♠)</td>\n",
       "      <td>(2, 14)</td>\n",
       "      <td>(♠, ♣)</td>\n",
       "      <td>153</td>\n",
       "    </tr>\n",
       "    <tr>\n",
       "      <th>1059</th>\n",
       "      <td>(14♡, 2♣)</td>\n",
       "      <td>(2, 14)</td>\n",
       "      <td>(♡, ♣)</td>\n",
       "      <td>154</td>\n",
       "    </tr>\n",
       "    <tr>\n",
       "      <th>1062</th>\n",
       "      <td>(14♡, 2♡)</td>\n",
       "      <td>(2, 14)</td>\n",
       "      <td>(♡, ♡)</td>\n",
       "      <td>203</td>\n",
       "    </tr>\n",
       "    <tr>\n",
       "      <th>1242</th>\n",
       "      <td>(14♣, 2♣)</td>\n",
       "      <td>(2, 14)</td>\n",
       "      <td>(♣, ♣)</td>\n",
       "      <td>200</td>\n",
       "    </tr>\n",
       "    <tr>\n",
       "      <th>1275</th>\n",
       "      <td>(14♣, 2♡)</td>\n",
       "      <td>(2, 14)</td>\n",
       "      <td>(♡, ♣)</td>\n",
       "      <td>155</td>\n",
       "    </tr>\n",
       "  </tbody>\n",
       "</table>\n",
       "</div>"
      ],
      "text/plain": [
       "          whole whole rank whole suit  counts\n",
       "104   (14♠, 2♢)    (2, 14)     (♠, ♢)     162\n",
       "119   (14♢, 2♢)    (2, 14)     (♢, ♢)     223\n",
       "126   (14♡, 2♢)    (2, 14)     (♡, ♢)     174\n",
       "144   (14♣, 2♢)    (2, 14)     (♢, ♣)     167\n",
       "308   (14♠, 2♠)    (2, 14)     (♠, ♠)     184\n",
       "322   (14♠, 2♣)    (2, 14)     (♠, ♣)     161\n",
       "325   (14♠, 2♡)    (2, 14)     (♠, ♡)     158\n",
       "863   (14♢, 2♠)    (2, 14)     (♠, ♢)     123\n",
       "877   (14♢, 2♣)    (2, 14)     (♢, ♣)     151\n",
       "880   (14♢, 2♡)    (2, 14)     (♡, ♢)     139\n",
       "951   (14♡, 2♠)    (2, 14)     (♠, ♡)     155\n",
       "969   (14♣, 2♠)    (2, 14)     (♠, ♣)     153\n",
       "1059  (14♡, 2♣)    (2, 14)     (♡, ♣)     154\n",
       "1062  (14♡, 2♡)    (2, 14)     (♡, ♡)     203\n",
       "1242  (14♣, 2♣)    (2, 14)     (♣, ♣)     200\n",
       "1275  (14♣, 2♡)    (2, 14)     (♡, ♣)     155"
      ]
     },
     "execution_count": 24,
     "metadata": {},
     "output_type": "execute_result"
    }
   ],
   "source": [
    "all_possible_whole[all_possible_whole['whole rank'] == (2, 14)]\n",
    "#seems like my code is working"
   ]
  },
  {
   "cell_type": "code",
   "execution_count": 31,
   "metadata": {},
   "outputs": [],
   "source": [
    "def suit_cat(x):\n",
    "    if x[0] == x[1]:\n",
    "        return 'same'\n",
    "    else:\n",
    "        return 'diff'\n",
    "    \n",
    "def rank_cat(x):\n",
    "    max_rank = max(int(list(x)))\n",
    "    min_rank = min(int(list(x)))\n",
    "    \n",
    "    if max_rank == min_rank:\n",
    "        status1 = 'pair'\n",
    "    elif abs(max_rank - min_rank) == 1 or (max_rank == 14 and min_rank == 2):\n",
    "        status1 = '1gap'\n",
    "    elif abs(max_rank - min_rank) == 2 or (max_rank == 14 and min_rank == 3):\n",
    "        status1 = '2gap'\n",
    "    elif abs(max_rank - min_rank) == 3 or (max_rank == 14 and min_rank == 4):\n",
    "        status1 = '3gap'\n",
    "    elif abs(max_rank - min_rank) == 4 or (max_rank == 14 and min_rank == 5):\n",
    "        status1 = '4gap'\n",
    "    else:\n",
    "        status1 = '5gap+' \n",
    "        \n",
    "    if max_rank >= 11:\n",
    "        statu2 = 'high'\n",
    "    elif max_rank >= 6:\n",
    "        statu2 = 'mid'\n",
    "    else:\n",
    "        statu2 = 'low'\n",
    "    return status1 + ' ' + status2"
   ]
  },
  {
   "cell_type": "code",
   "execution_count": 32,
   "metadata": {},
   "outputs": [
    {
     "ename": "TypeError",
     "evalue": "int() argument must be a string, a bytes-like object or a number, not 'tuple'",
     "output_type": "error",
     "traceback": [
      "\u001b[1;31m---------------------------------------------------------------------------\u001b[0m",
      "\u001b[1;31mTypeError\u001b[0m                                 Traceback (most recent call last)",
      "\u001b[1;32m<ipython-input-32-6afb2d3a9f20>\u001b[0m in \u001b[0;36m<module>\u001b[1;34m()\u001b[0m\n\u001b[0;32m      1\u001b[0m \u001b[0mall_possible_whole\u001b[0m\u001b[1;33m[\u001b[0m\u001b[1;34m'suit cat'\u001b[0m\u001b[1;33m]\u001b[0m \u001b[1;33m=\u001b[0m \u001b[0mall_possible_whole\u001b[0m\u001b[1;33m[\u001b[0m\u001b[1;34m'whole suit'\u001b[0m\u001b[1;33m]\u001b[0m\u001b[1;33m.\u001b[0m\u001b[0mapply\u001b[0m\u001b[1;33m(\u001b[0m\u001b[0msuit_cat\u001b[0m\u001b[1;33m)\u001b[0m\u001b[1;33m\u001b[0m\u001b[0m\n\u001b[1;32m----> 2\u001b[1;33m \u001b[0mall_possible_whole\u001b[0m\u001b[1;33m[\u001b[0m\u001b[1;34m'rank cat'\u001b[0m\u001b[1;33m]\u001b[0m \u001b[1;33m=\u001b[0m \u001b[0mall_possible_whole\u001b[0m\u001b[1;33m[\u001b[0m\u001b[1;34m'whole suit'\u001b[0m\u001b[1;33m]\u001b[0m\u001b[1;33m.\u001b[0m\u001b[0mapply\u001b[0m\u001b[1;33m(\u001b[0m\u001b[0mrank_cat\u001b[0m\u001b[1;33m)\u001b[0m\u001b[1;33m\u001b[0m\u001b[0m\n\u001b[0m\u001b[0;32m      3\u001b[0m \u001b[0mall_possible_whole\u001b[0m\u001b[1;33m[\u001b[0m\u001b[0mall_possible_whole\u001b[0m\u001b[1;33m[\u001b[0m\u001b[1;34m'whole rank'\u001b[0m\u001b[1;33m]\u001b[0m \u001b[1;33m==\u001b[0m \u001b[1;33m(\u001b[0m\u001b[1;36m2\u001b[0m\u001b[1;33m,\u001b[0m \u001b[1;36m14\u001b[0m\u001b[1;33m)\u001b[0m\u001b[1;33m]\u001b[0m\u001b[1;33m\u001b[0m\u001b[0m\n",
      "\u001b[1;32mc:\\users\\inves\\appdata\\local\\programs\\python\\python35\\lib\\site-packages\\pandas\\core\\series.py\u001b[0m in \u001b[0;36mapply\u001b[1;34m(self, func, convert_dtype, args, **kwds)\u001b[0m\n\u001b[0;32m   2292\u001b[0m             \u001b[1;32melse\u001b[0m\u001b[1;33m:\u001b[0m\u001b[1;33m\u001b[0m\u001b[0m\n\u001b[0;32m   2293\u001b[0m                 \u001b[0mvalues\u001b[0m \u001b[1;33m=\u001b[0m \u001b[0mself\u001b[0m\u001b[1;33m.\u001b[0m\u001b[0masobject\u001b[0m\u001b[1;33m\u001b[0m\u001b[0m\n\u001b[1;32m-> 2294\u001b[1;33m                 \u001b[0mmapped\u001b[0m \u001b[1;33m=\u001b[0m \u001b[0mlib\u001b[0m\u001b[1;33m.\u001b[0m\u001b[0mmap_infer\u001b[0m\u001b[1;33m(\u001b[0m\u001b[0mvalues\u001b[0m\u001b[1;33m,\u001b[0m \u001b[0mf\u001b[0m\u001b[1;33m,\u001b[0m \u001b[0mconvert\u001b[0m\u001b[1;33m=\u001b[0m\u001b[0mconvert_dtype\u001b[0m\u001b[1;33m)\u001b[0m\u001b[1;33m\u001b[0m\u001b[0m\n\u001b[0m\u001b[0;32m   2295\u001b[0m \u001b[1;33m\u001b[0m\u001b[0m\n\u001b[0;32m   2296\u001b[0m         \u001b[1;32mif\u001b[0m \u001b[0mlen\u001b[0m\u001b[1;33m(\u001b[0m\u001b[0mmapped\u001b[0m\u001b[1;33m)\u001b[0m \u001b[1;32mand\u001b[0m \u001b[0misinstance\u001b[0m\u001b[1;33m(\u001b[0m\u001b[0mmapped\u001b[0m\u001b[1;33m[\u001b[0m\u001b[1;36m0\u001b[0m\u001b[1;33m]\u001b[0m\u001b[1;33m,\u001b[0m \u001b[0mSeries\u001b[0m\u001b[1;33m)\u001b[0m\u001b[1;33m:\u001b[0m\u001b[1;33m\u001b[0m\u001b[0m\n",
      "\u001b[1;32mpandas\\src\\inference.pyx\u001b[0m in \u001b[0;36mpandas.lib.map_infer (pandas\\lib.c:66124)\u001b[1;34m()\u001b[0m\n",
      "\u001b[1;32m<ipython-input-31-1d2f3a675758>\u001b[0m in \u001b[0;36mrank_cat\u001b[1;34m(x)\u001b[0m\n\u001b[0;32m      6\u001b[0m \u001b[1;33m\u001b[0m\u001b[0m\n\u001b[0;32m      7\u001b[0m \u001b[1;32mdef\u001b[0m \u001b[0mrank_cat\u001b[0m\u001b[1;33m(\u001b[0m\u001b[0mx\u001b[0m\u001b[1;33m)\u001b[0m\u001b[1;33m:\u001b[0m\u001b[1;33m\u001b[0m\u001b[0m\n\u001b[1;32m----> 8\u001b[1;33m     \u001b[0mmax_rank\u001b[0m \u001b[1;33m=\u001b[0m \u001b[0mmax\u001b[0m\u001b[1;33m(\u001b[0m\u001b[0mint\u001b[0m\u001b[1;33m(\u001b[0m\u001b[0mx\u001b[0m\u001b[1;33m)\u001b[0m\u001b[1;33m)\u001b[0m\u001b[1;33m\u001b[0m\u001b[0m\n\u001b[0m\u001b[0;32m      9\u001b[0m     \u001b[0mmin_rank\u001b[0m \u001b[1;33m=\u001b[0m \u001b[0mmin\u001b[0m\u001b[1;33m(\u001b[0m\u001b[0mint\u001b[0m\u001b[1;33m(\u001b[0m\u001b[0mx\u001b[0m\u001b[1;33m)\u001b[0m\u001b[1;33m)\u001b[0m\u001b[1;33m\u001b[0m\u001b[0m\n\u001b[0;32m     10\u001b[0m \u001b[1;33m\u001b[0m\u001b[0m\n",
      "\u001b[1;31mTypeError\u001b[0m: int() argument must be a string, a bytes-like object or a number, not 'tuple'"
     ]
    }
   ],
   "source": [
    "all_possible_whole['suit cat'] = all_possible_whole['whole suit'].apply(suit_cat)\n",
    "all_possible_whole['rank cat'] = all_possible_whole['whole suit'].apply(rank_cat)\n",
    "all_possible_whole[all_possible_whole['whole rank'] == (2, 14)]"
   ]
  },
  {
   "cell_type": "markdown",
   "metadata": {},
   "source": [
    "Develop some analysis for the DataFrame and answer the following questions:\n",
    "1. what hands have very slim chance of winning? by rank and suits?\n",
    "    - suits can be classified as matching or not\n",
    "    - ranks can be classified as connecting, 1 gap, 2 gaps, etc\n",
    "    - ranks can also be looked at by pairs, have at least an Ace, King, etc\n",
    "2. what is the cutoff standard for winning percentages?\n",
    "    - we can sort and plot. see if there's an elbow in the plot, for the categories that we've came up with\n",
    "    - we can also answer some myths:\n",
    "        - are 2, 7s the worst hands?\n",
    "        - small pairs, do they always suck?\n",
    "\n",
    "some classification ideas:\n",
    "1. suit:\n",
    "    - same suit\n",
    "    - different suit\n",
    "  \n",
    "2. rank:\n",
    "    - pair of different sizes\n",
    "    - at least a high card\n",
    "    - does suit play a dramatic role?\n",
    "    - gaps (0, 1, 2, 3, 4, 5+)\n",
    "    \n",
    "Also, how do things differ for 10 player, 5 player, and 2 player games? Is what we've found about 10 players not applicable anymore?"
   ]
  },
  {
   "cell_type": "code",
   "execution_count": 115,
   "metadata": {},
   "outputs": [
    {
     "data": {
      "text/plain": [
       "whole suit    11663\n",
       "dtype: int64"
      ]
     },
     "execution_count": 115,
     "metadata": {},
     "output_type": "execute_result"
    }
   ],
   "source": [
    "winning_df['whole suit'].count()"
   ]
  },
  {
   "cell_type": "markdown",
   "metadata": {},
   "source": [
    "I also want to develop a function that tells me the possibilities with the whole and the community, namely the outs I have for making my current position better."
   ]
  }
 ],
 "metadata": {
  "kernelspec": {
   "display_name": "Python 3",
   "language": "python",
   "name": "python3"
  },
  "language_info": {
   "codemirror_mode": {
    "name": "ipython",
    "version": 3
   },
   "file_extension": ".py",
   "mimetype": "text/x-python",
   "name": "python",
   "nbconvert_exporter": "python",
   "pygments_lexer": "ipython3",
   "version": "3.5.3"
  }
 },
 "nbformat": 4,
 "nbformat_minor": 2
}
