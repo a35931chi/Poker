{
 "cells": [
  {
   "cell_type": "markdown",
   "metadata": {},
   "source": [
    "### Here I'll put different functions to the test"
   ]
  },
  {
   "cell_type": "code",
   "execution_count": 31,
   "metadata": {},
   "outputs": [],
   "source": [
    "import pandas as pd\n",
    "import numpy as np\n",
    "import matplotlib.pyplot as plt\n",
    "from PIL import Image\n",
    "from time import time\n",
    "\n",
    "from Basics import Deck, test_shuffle\n",
    "from win_lose import evaluate_7cards, evaluate_5cards, best_hand\n",
    "from Game_Board import Test_Game"
   ]
  },
  {
   "cell_type": "markdown",
   "metadata": {},
   "source": [
    "Testing basic functions and methods"
   ]
  },
  {
   "cell_type": "code",
   "execution_count": 2,
   "metadata": {},
   "outputs": [],
   "source": [
    "mydeck = Deck()"
   ]
  },
  {
   "cell_type": "code",
   "execution_count": 3,
   "metadata": {
    "scrolled": true
   },
   "outputs": [
    {
     "data": {
      "text/plain": [
       "['Ace of Clubs',\n",
       " '2 of Clubs',\n",
       " '3 of Clubs',\n",
       " '4 of Clubs',\n",
       " '5 of Clubs',\n",
       " '6 of Clubs',\n",
       " '7 of Clubs',\n",
       " '8 of Clubs',\n",
       " '9 of Clubs',\n",
       " '10 of Clubs',\n",
       " 'Jack of Clubs',\n",
       " 'Queen of Clubs',\n",
       " 'King of Clubs',\n",
       " 'Ace of Diamonds',\n",
       " '2 of Diamonds',\n",
       " '3 of Diamonds',\n",
       " '4 of Diamonds',\n",
       " '5 of Diamonds',\n",
       " '6 of Diamonds',\n",
       " '7 of Diamonds',\n",
       " '8 of Diamonds',\n",
       " '9 of Diamonds',\n",
       " '10 of Diamonds',\n",
       " 'Jack of Diamonds',\n",
       " 'Queen of Diamonds',\n",
       " 'King of Diamonds',\n",
       " 'Ace of Hearts',\n",
       " '2 of Hearts',\n",
       " '3 of Hearts',\n",
       " '4 of Hearts',\n",
       " '5 of Hearts',\n",
       " '6 of Hearts',\n",
       " '7 of Hearts',\n",
       " '8 of Hearts',\n",
       " '9 of Hearts',\n",
       " '10 of Hearts',\n",
       " 'Jack of Hearts',\n",
       " 'Queen of Hearts',\n",
       " 'King of Hearts',\n",
       " 'Ace of Spades',\n",
       " '2 of Spades',\n",
       " '3 of Spades',\n",
       " '4 of Spades',\n",
       " '5 of Spades',\n",
       " '6 of Spades',\n",
       " '7 of Spades',\n",
       " '8 of Spades',\n",
       " '9 of Spades',\n",
       " '10 of Spades',\n",
       " 'Jack of Spades',\n",
       " 'Queen of Spades',\n",
       " 'King of Spades']"
      ]
     },
     "execution_count": 3,
     "metadata": {},
     "output_type": "execute_result"
    }
   ],
   "source": [
    "mydeck.order"
   ]
  },
  {
   "cell_type": "code",
   "execution_count": 4,
   "metadata": {
    "scrolled": true
   },
   "outputs": [],
   "source": [
    "df_test_shuffle = test_shuffle(mydeck, 10000)"
   ]
  },
  {
   "cell_type": "code",
   "execution_count": 5,
   "metadata": {},
   "outputs": [
    {
     "data": {
      "text/plain": [
       "Ace of Diamonds      25.8058\n",
       "King of Diamonds     25.7265\n",
       "10 of Clubs          25.7104\n",
       "3 of Clubs           25.6930\n",
       "8 of Spades          25.6872\n",
       "6 of Diamonds        25.6865\n",
       "Queen of Clubs       25.6793\n",
       "King of Spades       25.6762\n",
       "4 of Diamonds        25.6574\n",
       "4 of Spades          25.6551\n",
       "5 of Spades          25.6435\n",
       "8 of Diamonds        25.6402\n",
       "9 of Diamonds        25.6259\n",
       "Ace of Hearts        25.6191\n",
       "Ace of Spades        25.6142\n",
       "7 of Hearts          25.6039\n",
       "9 of Hearts          25.5898\n",
       "2 of Spades          25.5871\n",
       "Queen of Spades      25.5834\n",
       "Queen of Hearts      25.5803\n",
       "9 of Spades          25.5773\n",
       "9 of Clubs           25.5564\n",
       "10 of Spades         25.5527\n",
       "4 of Hearts          25.5426\n",
       "3 of Diamonds        25.5363\n",
       "10 of Diamonds       25.5208\n",
       "Queen of Diamonds    25.5199\n",
       "2 of Diamonds        25.4934\n",
       "7 of Diamonds        25.4918\n",
       "4 of Clubs           25.4778\n",
       "King of Clubs        25.4756\n",
       "7 of Clubs           25.4607\n",
       "3 of Spades          25.4512\n",
       "10 of Hearts         25.4430\n",
       "5 of Clubs           25.4416\n",
       "5 of Diamonds        25.4408\n",
       "Jack of Hearts       25.4392\n",
       "7 of Spades          25.4165\n",
       "Jack of Diamonds     25.4125\n",
       "2 of Hearts          25.4117\n",
       "8 of Hearts          25.4113\n",
       "Jack of Clubs        25.3635\n",
       "Ace of Clubs         25.3433\n",
       "King of Hearts       25.3226\n",
       "6 of Clubs           25.2794\n",
       "5 of Hearts          25.2791\n",
       "6 of Hearts          25.2678\n",
       "8 of Clubs           25.2528\n",
       "3 of Hearts          25.2366\n",
       "6 of Spades          25.2337\n",
       "2 of Clubs           25.2323\n",
       "Jack of Spades       25.0510\n",
       "Name: avg_hand_freq, dtype: float64"
      ]
     },
     "execution_count": 5,
     "metadata": {},
     "output_type": "execute_result"
    }
   ],
   "source": [
    "s_test_summary = df_test_shuffle.mean().sort_values(ascending = False).rename('avg_hand_freq')\n",
    "s_test_summary"
   ]
  },
  {
   "cell_type": "code",
   "execution_count": 6,
   "metadata": {},
   "outputs": [
    {
     "data": {
      "image/png": "[encoded data removed]",
      "text/plain": [
       "<matplotlib.figure.Figure at 0x1d453822128>"
      ]
     },
     "metadata": {},
     "output_type": "display_data"
    }
   ],
   "source": [
    "s_test_summary.plot(kind = 'barh')\n",
    "plt.show()"
   ]
  },
  {
   "cell_type": "markdown",
   "metadata": {},
   "source": [
    "Seems like the classes and the shuffle functions working okay"
   ]
  },
  {
   "cell_type": "markdown",
   "metadata": {},
   "source": [
    "I'm going to gather some photos of the deck to make displaying some hands a little easier"
   ]
  },
  {
   "cell_type": "code",
   "execution_count": 27,
   "metadata": {},
   "outputs": [
    {
     "data": {
      "image/png": "[encoded data removed]",
      "text/plain": [
       "<matplotlib.figure.Figure at 0x1ecc1359550>"
      ]
     },
     "metadata": {},
     "output_type": "display_data"
    }
   ],
   "source": [
    "import matplotlib.pyplot as plt\n",
    "import matplotlib.image as mpimg\n",
    "\n",
    "#make new figure with 2 subfigures\n",
    "#each subfigure can have an image in it\n",
    "fig = plt.figure(figsize=(5, 3))\n",
    "image1 = plt.subplot(121)\n",
    "image2 = plt.subplot(122)\n",
    "\n",
    "#read the image files (png files preferred)\n",
    "img_source1 = mpimg.imread('images/14H.png')\n",
    "img_source2 = mpimg.imread('images/14D.png')\n",
    "#put the images into the window\n",
    "_ = image1.imshow(img_source1)\n",
    "_ = image2.imshow(img_source2)\n",
    "\n",
    "#hide axis and show window with images\n",
    "image1.axis(\"off\")\n",
    "image2.axis(\"off\")\n",
    "plt.show()"
   ]
  },
  {
   "cell_type": "markdown",
   "metadata": {},
   "source": [
    "Trying to run some code a few times to collect some simulation data"
   ]
  },
  {
   "cell_type": "code",
   "execution_count": 34,
   "metadata": {},
   "outputs": [
    {
     "name": "stdout",
     "output_type": "stream",
     "text": [
      "starting time: 1532743800.73822\n",
      "took 507.15719413757324 seconds\n",
      "   player      whole                   comm               best hand  \\\n",
      "1       1  [9H, 12S]  [2S, 9C, 9D, 12H, 3C]  (9H, 12S, 9C, 9D, 12H)   \n",
      "0       0   [6D, 9H]   [2S, 7C, 5C, 9D, 8S]    (6D, 9H, 7C, 5C, 8S)   \n",
      "2       2  [6C, 14H]   [2S, 7C, 5C, 9D, 8S]    (6C, 7C, 5C, 9D, 8S)   \n",
      "3       3  [12D, 6S]   [2S, 7C, 5C, 9D, 8S]    (6S, 7C, 5C, 9D, 8S)   \n",
      "8       8  [13D, 8S]  [3H, 4C, 2S, 13H, 7S]  (13D, 8S, 4C, 13H, 7S)   \n",
      "\n",
      "                         eval  round  \n",
      "1       (7, Full House, 9, 0)      0  \n",
      "0         (5, Straight, 9, 0)      1  \n",
      "2         (5, Straight, 9, 0)      1  \n",
      "3         (5, Straight, 9, 0)      1  \n",
      "8  (2, 1 Pair, 13, [8, 7, 4])      2  \n"
     ]
    }
   ],
   "source": [
    "print('starting time: {}'.format(time()))\n",
    "t0 = time()\n",
    "winning_df = pd.DataFrame()\n",
    "hands = 10000\n",
    "for i in range(hands):\n",
    "    winner_data = []\n",
    "\n",
    "    participants = 10\n",
    "\n",
    "\n",
    "    game_info = []\n",
    "    whole_cards, comm = Test_Game('HOLDEM', participants)\n",
    "\n",
    "    comm_cards = [card.rank[1] + card.suit[1] for card in comm]\n",
    "\n",
    "    for player in whole_cards:\n",
    "        player_cards = [card.rank[1] + card.suit[1] for card in whole_cards[player]]\n",
    "\n",
    "        game_info.append([player, player_cards, comm_cards])\n",
    "\n",
    "\n",
    "    game_info_df = pd.DataFrame(game_info, columns = ['player', 'whole', 'comm'])\n",
    "    game_info_df['combined'] = game_info_df['whole'] + game_info_df['comm']\n",
    "    game_info_df['mess'] = game_info_df['combined'].apply(evaluate_7cards)\n",
    "    game_info_df['best hand'] = game_info_df['mess'].apply(lambda x:x[0][0])\n",
    "    game_info_df['eval'] = game_info_df['mess'].apply(lambda x:x[0][1])\n",
    "    best = best_hand(list(game_info_df['mess'].apply(lambda x:x[0])))\n",
    "\n",
    "    winner = game_info_df[game_info_df['eval'] == best[0][1]][['player', 'whole', 'comm', 'best hand', 'eval']]\n",
    "    winner['round'] = i\n",
    "    winning_df = winning_df.append(winner)\n",
    "\n",
    "print('took {} seconds'.format(time() - t0))\n",
    "print(winning_df.head())\n",
    "#seems like for every 10 games, it takes ~5 seconds to run the algo\n",
    "#so 1,000,000 games should take 500,000 seconds = 8333 mins = 138 hrs = 5.7 days to run."
   ]
  },
  {
   "cell_type": "markdown",
   "metadata": {},
   "source": [
    "Develop some analysis for the DataFrame\n",
    "- extract the rank and suit first into two different dataframes\n",
    "- classify the whole cards into categories:\n",
    "    - same suit\n",
    "    - consecutive rank\n",
    "    - pair\n",
    "    - "
   ]
  },
  {
   "cell_type": "code",
   "execution_count": 73,
   "metadata": {},
   "outputs": [],
   "source": [
    "def sort_me(x):\n",
    "    x.sort()\n",
    "    return x"
   ]
  },
  {
   "cell_type": "code",
   "execution_count": 105,
   "metadata": {},
   "outputs": [],
   "source": [
    "winning_df['whole rank'] = winning_df['whole'].apply(lambda x: [int(i[:-1]) for i in x]).apply(lambda x: sorted(x)).apply(tuple)\n",
    "winning_df['whole suit'] = winning_df['whole'].apply(lambda x: [i[-1] for i in x]).apply(lambda x: sorted(x)).apply(tuple)"
   ]
  },
  {
   "cell_type": "code",
   "execution_count": 106,
   "metadata": {},
   "outputs": [
    {
     "data": {
      "text/html": [
       "<div>\n",
       "<table border=\"1\" class=\"dataframe\">\n",
       "  <thead>\n",
       "    <tr style=\"text-align: right;\">\n",
       "      <th></th>\n",
       "      <th>whole rank</th>\n",
       "      <th>whole suit</th>\n",
       "      <th>whole</th>\n",
       "    </tr>\n",
       "  </thead>\n",
       "  <tbody>\n",
       "    <tr>\n",
       "      <th>1</th>\n",
       "      <td>(9, 12)</td>\n",
       "      <td>(H, S)</td>\n",
       "      <td>[9H, 12S]</td>\n",
       "    </tr>\n",
       "    <tr>\n",
       "      <th>0</th>\n",
       "      <td>(6, 9)</td>\n",
       "      <td>(D, H)</td>\n",
       "      <td>[6D, 9H]</td>\n",
       "    </tr>\n",
       "    <tr>\n",
       "      <th>2</th>\n",
       "      <td>(6, 14)</td>\n",
       "      <td>(C, H)</td>\n",
       "      <td>[6C, 14H]</td>\n",
       "    </tr>\n",
       "    <tr>\n",
       "      <th>3</th>\n",
       "      <td>(6, 12)</td>\n",
       "      <td>(D, S)</td>\n",
       "      <td>[12D, 6S]</td>\n",
       "    </tr>\n",
       "    <tr>\n",
       "      <th>8</th>\n",
       "      <td>(8, 13)</td>\n",
       "      <td>(D, S)</td>\n",
       "      <td>[13D, 8S]</td>\n",
       "    </tr>\n",
       "    <tr>\n",
       "      <th>5</th>\n",
       "      <td>(10, 12)</td>\n",
       "      <td>(C, S)</td>\n",
       "      <td>[12S, 10C]</td>\n",
       "    </tr>\n",
       "    <tr>\n",
       "      <th>7</th>\n",
       "      <td>(4, 7)</td>\n",
       "      <td>(H, H)</td>\n",
       "      <td>[7H, 4H]</td>\n",
       "    </tr>\n",
       "    <tr>\n",
       "      <th>6</th>\n",
       "      <td>(6, 9)</td>\n",
       "      <td>(H, H)</td>\n",
       "      <td>[9H, 6H]</td>\n",
       "    </tr>\n",
       "    <tr>\n",
       "      <th>9</th>\n",
       "      <td>(6, 9)</td>\n",
       "      <td>(C, D)</td>\n",
       "      <td>[9C, 6D]</td>\n",
       "    </tr>\n",
       "    <tr>\n",
       "      <th>5</th>\n",
       "      <td>(12, 14)</td>\n",
       "      <td>(D, H)</td>\n",
       "      <td>[12H, 14D]</td>\n",
       "    </tr>\n",
       "  </tbody>\n",
       "</table>\n",
       "</div>"
      ],
      "text/plain": [
       "  whole rank whole suit       whole\n",
       "1    (9, 12)     (H, S)   [9H, 12S]\n",
       "0     (6, 9)     (D, H)    [6D, 9H]\n",
       "2    (6, 14)     (C, H)   [6C, 14H]\n",
       "3    (6, 12)     (D, S)   [12D, 6S]\n",
       "8    (8, 13)     (D, S)   [13D, 8S]\n",
       "5   (10, 12)     (C, S)  [12S, 10C]\n",
       "7     (4, 7)     (H, H)    [7H, 4H]\n",
       "6     (6, 9)     (H, H)    [9H, 6H]\n",
       "9     (6, 9)     (C, D)    [9C, 6D]\n",
       "5   (12, 14)     (D, H)  [12H, 14D]"
      ]
     },
     "execution_count": 106,
     "metadata": {},
     "output_type": "execute_result"
    }
   ],
   "source": [
    "winning_df[['whole rank', 'whole suit', 'whole']].head(10)"
   ]
  },
  {
   "cell_type": "code",
   "execution_count": 121,
   "metadata": {},
   "outputs": [
    {
     "data": {
      "text/plain": [
       "(12, 14)    0.203\n",
       "(10, 11)    0.196\n",
       "(8, 10)     0.186\n",
       "(11, 12)    0.183\n",
       "(13, 14)    0.181\n",
       "(9, 10)     0.180\n",
       "(12, 13)    0.179\n",
       "(11, 14)    0.173\n",
       "(10, 13)    0.172\n",
       "(7, 9)      0.170\n",
       "(9, 11)     0.167\n",
       "(11, 13)    0.163\n",
       "(9, 12)     0.162\n",
       "(9, 13)     0.159\n",
       "(5, 14)     0.157\n",
       "(6, 9)      0.156\n",
       "(8, 12)     0.156\n",
       "(7, 10)     0.155\n",
       "(10, 12)    0.154\n",
       "(9, 14)     0.153\n",
       "(7, 14)     0.152\n",
       "(6, 7)      0.152\n",
       "(8, 13)     0.150\n",
       "(10, 14)    0.149\n",
       "(8, 9)      0.147\n",
       "(5, 6)      0.146\n",
       "(7, 8)      0.144\n",
       "(8, 14)     0.144\n",
       "(7, 12)     0.143\n",
       "(4, 11)     0.142\n",
       "            ...  \n",
       "(3, 11)     0.116\n",
       "(4, 8)      0.116\n",
       "(13, 13)    0.114\n",
       "(3, 14)     0.114\n",
       "(4, 9)      0.110\n",
       "(12, 12)    0.108\n",
       "(4, 7)      0.106\n",
       "(3, 7)      0.106\n",
       "(2, 13)     0.105\n",
       "(3, 8)      0.105\n",
       "(3, 10)     0.104\n",
       "(2, 8)      0.103\n",
       "(4, 10)     0.100\n",
       "(14, 14)    0.097\n",
       "(9, 9)      0.095\n",
       "(2, 7)      0.092\n",
       "(3, 9)      0.091\n",
       "(2, 4)      0.088\n",
       "(2, 6)      0.087\n",
       "(2, 3)      0.084\n",
       "(4, 4)      0.084\n",
       "(6, 6)      0.084\n",
       "(2, 10)     0.083\n",
       "(7, 7)      0.081\n",
       "(8, 8)      0.077\n",
       "(10, 10)    0.077\n",
       "(11, 11)    0.076\n",
       "(2, 2)      0.075\n",
       "(3, 3)      0.065\n",
       "(5, 5)      0.060\n",
       "Name: whole rank, dtype: float64"
      ]
     },
     "execution_count": 121,
     "metadata": {},
     "output_type": "execute_result"
    }
   ],
   "source": [
    "winning_df['whole rank'].value_counts()/10000/10*100"
   ]
  },
  {
   "cell_type": "code",
   "execution_count": 115,
   "metadata": {},
   "outputs": [
    {
     "data": {
      "text/plain": [
       "whole suit    11663\n",
       "dtype: int64"
      ]
     },
     "execution_count": 115,
     "metadata": {},
     "output_type": "execute_result"
    }
   ],
   "source": [
    "winning_df['whole suit'].count()"
   ]
  },
  {
   "cell_type": "code",
   "execution_count": null,
   "metadata": {},
   "outputs": [],
   "source": []
  }
 ],
 "metadata": {
  "kernelspec": {
   "display_name": "Python 3",
   "language": "python",
   "name": "python3"
  }
 },
 "nbformat": 4,
 "nbformat_minor": 2
}
